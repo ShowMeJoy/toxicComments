{
  "cells": [
    {
      "cell_type": "markdown",
      "metadata": {
        "toc": true,
        "id": "FF_fnpkYfILZ"
      },
      "source": [
        "<h1>Содержание<span class=\"tocSkip\"></span></h1>\n",
        "<div class=\"toc\"><ul class=\"toc-item\"><li><span><a href=\"#Подготовка\" data-toc-modified-id=\"Подготовка-1\"><span class=\"toc-item-num\">1&nbsp;&nbsp;</span>Подготовка</a></span></li><li><span><a href=\"#Обучение\" data-toc-modified-id=\"Обучение-2\"><span class=\"toc-item-num\">2&nbsp;&nbsp;</span>Обучение</a></span><ul class=\"toc-item\"><li><span><a href=\"#DecisionTreeClassifier\" data-toc-modified-id=\"DecisionTreeClassifier-2.1\"><span class=\"toc-item-num\">2.1&nbsp;&nbsp;</span>DecisionTreeClassifier</a></span></li><li><span><a href=\"#LogisticRegression\" data-toc-modified-id=\"LogisticRegression-2.2\"><span class=\"toc-item-num\">2.2&nbsp;&nbsp;</span>LogisticRegression</a></span></li><li><span><a href=\"#RandomForestClassifier\" data-toc-modified-id=\"RandomForestClassifier-2.3\"><span class=\"toc-item-num\">2.3&nbsp;&nbsp;</span>RandomForestClassifier</a></span></li><li><span><a href=\"#Определю-порог-классификации-для-LogisticRegression\" data-toc-modified-id=\"Определю-порог-классификации-для-LogisticRegression-2.4\"><span class=\"toc-item-num\">2.4&nbsp;&nbsp;</span>Определю порог классификации для LogisticRegression</a></span></li></ul></li><li><span><a href=\"#Выводы\" data-toc-modified-id=\"Выводы-3\"><span class=\"toc-item-num\">3&nbsp;&nbsp;</span>Выводы</a></span></li>"
      ]
    },
    {
      "cell_type": "markdown",
      "metadata": {
        "id": "5dFgcSMBfILc"
      },
      "source": [
        "# Проект для «Викишоп»"
      ]
    },
    {
      "cell_type": "markdown",
      "metadata": {
        "id": "Txp1S-9JfILd"
      },
      "source": [
        "Нужно обучить модель классифицировать комментарии на позитивные и негативные.\n",
        "\n",
        "Построить модель со значением метрики качества *F1* не меньше 0.75."
      ]
    },
    {
      "cell_type": "markdown",
      "metadata": {
        "id": "qzYClurzfILd"
      },
      "source": [
        "## Подготовка"
      ]
    },
    {
      "cell_type": "code",
      "execution_count": null,
      "metadata": {
        "id": "NWsbHr3WfILd"
      },
      "outputs": [],
      "source": [
        "import pandas as pd\n",
        "import numpy as np\n",
        "import re\n",
        "from tqdm.notebook import tqdm\n",
        "import matplotlib.pyplot as plt\n",
        "import seaborn as sns\n",
        "import warnings\n",
        "warnings.filterwarnings('ignore')\n",
        "\n",
        "import nltk\n",
        "from nltk.corpus import stopwords as nltk_stopwords\n",
        "from nltk.stem import WordNetLemmatizer\n",
        "from nltk.corpus import wordnet\n",
        "\n",
        "from sklearn.model_selection import train_test_split\n",
        "from sklearn.tree import DecisionTreeClassifier\n",
        "from sklearn.linear_model import LogisticRegression\n",
        "from sklearn.model_selection import GridSearchCV\n",
        "from sklearn.ensemble import RandomForestClassifier\n",
        "\n",
        "from sklearn.feature_extraction.text import TfidfVectorizer\n",
        "\n",
        "from sklearn.metrics import classification_report\n",
        "from sklearn.metrics import precision_recall_curve\n",
        "from sklearn.metrics import precision_score, recall_score\n",
        "from sklearn.metrics import roc_curve\n",
        "from sklearn.metrics import roc_auc_score\n",
        "from sklearn.metrics import f1_score\n",
        "from sklearn.metrics import confusion_matrix\n",
        "from sklearn.utils import shuffle"
      ]
    },
    {
      "cell_type": "code",
      "execution_count": null,
      "metadata": {
        "id": "H27VXrf4fILe"
      },
      "outputs": [],
      "source": [
        "data = pd.read_csv('https://code.s3.yandex.net/datasets/toxic_comments.csv')"
      ]
    },
    {
      "cell_type": "code",
      "execution_count": null,
      "metadata": {
        "scrolled": true,
        "id": "K2zaRBxLfILe",
        "outputId": "52dc7339-c1b3-42e0-905b-d6045c4329c6"
      },
      "outputs": [
        {
          "name": "stdout",
          "output_type": "stream",
          "text": [
            "<class 'pandas.core.frame.DataFrame'>\n",
            "RangeIndex: 159292 entries, 0 to 159291\n",
            "Data columns (total 3 columns):\n",
            " #   Column      Non-Null Count   Dtype \n",
            "---  ------      --------------   ----- \n",
            " 0   Unnamed: 0  159292 non-null  int64 \n",
            " 1   text        159292 non-null  object\n",
            " 2   toxic       159292 non-null  int64 \n",
            "dtypes: int64(2), object(1)\n",
            "memory usage: 3.6+ MB\n"
          ]
        }
      ],
      "source": [
        "data.info()"
      ]
    },
    {
      "cell_type": "code",
      "execution_count": null,
      "metadata": {
        "id": "Spm0ACKSfILf",
        "outputId": "9d256ff0-e338-463c-ac7b-1c62d837d094"
      },
      "outputs": [
        {
          "data": {
            "text/html": [
              "<div>\n",
              "<style scoped>\n",
              "    .dataframe tbody tr th:only-of-type {\n",
              "        vertical-align: middle;\n",
              "    }\n",
              "\n",
              "    .dataframe tbody tr th {\n",
              "        vertical-align: top;\n",
              "    }\n",
              "\n",
              "    .dataframe thead th {\n",
              "        text-align: right;\n",
              "    }\n",
              "</style>\n",
              "<table border=\"1\" class=\"dataframe\">\n",
              "  <thead>\n",
              "    <tr style=\"text-align: right;\">\n",
              "      <th></th>\n",
              "      <th>Unnamed: 0</th>\n",
              "      <th>text</th>\n",
              "      <th>toxic</th>\n",
              "    </tr>\n",
              "  </thead>\n",
              "  <tbody>\n",
              "    <tr>\n",
              "      <th>0</th>\n",
              "      <td>0</td>\n",
              "      <td>Explanation\\nWhy the edits made under my usern...</td>\n",
              "      <td>0</td>\n",
              "    </tr>\n",
              "    <tr>\n",
              "      <th>1</th>\n",
              "      <td>1</td>\n",
              "      <td>D'aww! He matches this background colour I'm s...</td>\n",
              "      <td>0</td>\n",
              "    </tr>\n",
              "    <tr>\n",
              "      <th>2</th>\n",
              "      <td>2</td>\n",
              "      <td>Hey man, I'm really not trying to edit war. It...</td>\n",
              "      <td>0</td>\n",
              "    </tr>\n",
              "    <tr>\n",
              "      <th>3</th>\n",
              "      <td>3</td>\n",
              "      <td>\"\\nMore\\nI can't make any real suggestions on ...</td>\n",
              "      <td>0</td>\n",
              "    </tr>\n",
              "    <tr>\n",
              "      <th>4</th>\n",
              "      <td>4</td>\n",
              "      <td>You, sir, are my hero. Any chance you remember...</td>\n",
              "      <td>0</td>\n",
              "    </tr>\n",
              "  </tbody>\n",
              "</table>\n",
              "</div>"
            ],
            "text/plain": [
              "   Unnamed: 0                                               text  toxic\n",
              "0           0  Explanation\\nWhy the edits made under my usern...      0\n",
              "1           1  D'aww! He matches this background colour I'm s...      0\n",
              "2           2  Hey man, I'm really not trying to edit war. It...      0\n",
              "3           3  \"\\nMore\\nI can't make any real suggestions on ...      0\n",
              "4           4  You, sir, are my hero. Any chance you remember...      0"
            ]
          },
          "execution_count": 4,
          "metadata": {},
          "output_type": "execute_result"
        }
      ],
      "source": [
        "data.head()"
      ]
    },
    {
      "cell_type": "markdown",
      "metadata": {
        "id": "wkCjA092fILf"
      },
      "source": [
        "Создам корпус слов и загружу библиотеки, необходимые для обработки текста:"
      ]
    },
    {
      "cell_type": "code",
      "execution_count": null,
      "metadata": {
        "id": "l5a6tD8JfILf",
        "outputId": "cb225c3b-3cdc-472d-c944-306dd89e8023"
      },
      "outputs": [
        {
          "name": "stderr",
          "output_type": "stream",
          "text": [
            "[nltk_data] Downloading package wordnet to /home/jovyan/nltk_data...\n",
            "[nltk_data]   Package wordnet is already up-to-date!\n",
            "[nltk_data] Downloading package averaged_perceptron_tagger to\n",
            "[nltk_data]     /home/jovyan/nltk_data...\n",
            "[nltk_data]   Package averaged_perceptron_tagger is already up-to-\n",
            "[nltk_data]       date!\n",
            "[nltk_data] Downloading package punkt to /home/jovyan/nltk_data...\n",
            "[nltk_data]   Package punkt is already up-to-date!\n"
          ]
        }
      ],
      "source": [
        "corpus = list(data['text'])\n",
        "nltk.download('wordnet')\n",
        "nltk.download('averaged_perceptron_tagger')\n",
        "nltk.download('punkt')\n",
        "lemmatizer = WordNetLemmatizer()"
      ]
    },
    {
      "cell_type": "markdown",
      "metadata": {
        "id": "UvIhzYWyfILf"
      },
      "source": [
        "Создам ф-ции для очистки данных и лемматизации слов:"
      ]
    },
    {
      "cell_type": "code",
      "execution_count": null,
      "metadata": {
        "id": "raRCPhiLfILg"
      },
      "outputs": [],
      "source": [
        "def clear_text(text):\n",
        "    y=re.sub(r\"[^'a-zA-Z ]\", ' ', text)\n",
        "    k=\" \".join(y.split())\n",
        "    return k"
      ]
    },
    {
      "cell_type": "code",
      "execution_count": null,
      "metadata": {
        "id": "gkj7G1sofILg"
      },
      "outputs": [],
      "source": [
        "def get_wordnet_pos(word):\n",
        "    tag = nltk.pos_tag([word])[0][1][0].upper()\n",
        "    tag_dict = {\"J\": wordnet.ADJ,\n",
        "                \"N\": wordnet.NOUN,\n",
        "                \"V\": wordnet.VERB,\n",
        "                \"R\": wordnet.ADV}\n",
        "    return tag_dict.get(tag, wordnet.NOUN)"
      ]
    },
    {
      "cell_type": "markdown",
      "metadata": {
        "id": "VM14RQogfILg"
      },
      "source": [
        "Преобразую текст:"
      ]
    },
    {
      "cell_type": "code",
      "execution_count": null,
      "metadata": {
        "colab": {
          "referenced_widgets": [
            "b36951139af646309b105cd8b36bd85e"
          ]
        },
        "id": "5sgNxOGofILg",
        "outputId": "388f3278-ad9b-4aed-dcfd-1c8ef9c5dae2"
      },
      "outputs": [
        {
          "data": {
            "application/vnd.jupyter.widget-view+json": {
              "model_id": "b36951139af646309b105cd8b36bd85e",
              "version_major": 2,
              "version_minor": 0
            },
            "text/plain": [
              "  0%|          | 0/159292 [00:00<?, ?it/s]"
            ]
          },
          "metadata": {},
          "output_type": "display_data"
        }
      ],
      "source": [
        "def lemmafunction(textc):\n",
        "    k=[]\n",
        "    for i in nltk.word_tokenize(textc):\n",
        "        y=lemmatizer.lemmatize(i, get_wordnet_pos(i))\n",
        "        k.append(y)\n",
        "    return ' '.join(k)\n",
        "\n",
        "lemy=[]\n",
        "for i in tqdm(range(len(corpus))):\n",
        "\n",
        "    lemy.append(lemmafunction(clear_text(corpus[i])))\n",
        "data['lemm_text']=pd.Series(lemy, index=data.index)"
      ]
    },
    {
      "cell_type": "code",
      "execution_count": null,
      "metadata": {
        "id": "-ScX4-imfILg",
        "outputId": "558d7eee-d2f9-4907-d19f-f84a53f099bf"
      },
      "outputs": [
        {
          "data": {
            "text/plain": [
              "\"Explanation\\nWhy the edits made under my username Hardcore Metallica Fan were reverted? They weren't vandalisms, just closure on some GAs after I voted at New York Dolls FAC. And please don't remove the template from the talk page since I'm retired now.89.205.38.27\""
            ]
          },
          "execution_count": 9,
          "metadata": {},
          "output_type": "execute_result"
        }
      ],
      "source": [
        "data['text'][0]"
      ]
    },
    {
      "cell_type": "code",
      "execution_count": null,
      "metadata": {
        "id": "6lDLO04jfILg",
        "outputId": "9e807dbf-24d7-4c7a-8ea1-329c222ab763"
      },
      "outputs": [
        {
          "data": {
            "text/plain": [
              "\"Explanation Why the edits make under my username Hardcore Metallica Fan be revert They be n't vandalism just closure on some GAs after I vote at New York Dolls FAC And please do n't remove the template from the talk page since I 'm retire now\""
            ]
          },
          "execution_count": 10,
          "metadata": {},
          "output_type": "execute_result"
        }
      ],
      "source": [
        "data['lemm_text'][0]"
      ]
    },
    {
      "cell_type": "markdown",
      "metadata": {
        "id": "kCAcdN88fILh"
      },
      "source": [
        "Проверю распределение классов:"
      ]
    },
    {
      "cell_type": "code",
      "execution_count": null,
      "metadata": {
        "id": "deqwc-0CfILh",
        "outputId": "beff0c9b-4edb-429d-f394-40f1436eeaa6"
      },
      "outputs": [
        {
          "data": {
            "image/png": "[encoded data removed]",
            "text/plain": [
              "<Figure size 396x396 with 1 Axes>"
            ]
          },
          "metadata": {},
          "output_type": "display_data"
        }
      ],
      "source": [
        "sns.set_style('darkgrid')\n",
        "data['toxic'].value_counts(normalize=True).plot(kind='pie',figsize=[5.5,5.5], legend=False, autopct='%1.1f%%',labels=['Отзыв токсичный, класс [0]','Отзыв не токсичный, класс [1]'])\n",
        "plt.title('Баланс распределения классов в данных')\n",
        "plt.ylabel('')\n",
        "plt.show()"
      ]
    },
    {
      "cell_type": "markdown",
      "metadata": {
        "id": "e2oiZdknfILh"
      },
      "source": [
        "Виден значительный дисбаланс классов."
      ]
    },
    {
      "cell_type": "markdown",
      "metadata": {
        "id": "NiUjWvRdfILh"
      },
      "source": [
        "Разделю выборки:"
      ]
    },
    {
      "cell_type": "code",
      "execution_count": null,
      "metadata": {
        "id": "1UHZ2xCVfILi"
      },
      "outputs": [],
      "source": [
        "X = data.drop('toxic',axis=1)\n",
        "y = data['toxic']"
      ]
    },
    {
      "cell_type": "code",
      "execution_count": null,
      "metadata": {
        "id": "D1HFuSDlfILi"
      },
      "outputs": [],
      "source": [
        "X_train, X_test, y_train, y_test = train_test_split(X, y, test_size=.4, random_state=666, shuffle=True, stratify=y)"
      ]
    },
    {
      "cell_type": "code",
      "execution_count": null,
      "metadata": {
        "id": "6NHe8BUXfILi"
      },
      "outputs": [],
      "source": [
        "X_test, X_val, y_test, y_val = train_test_split(X_test, y_test, test_size=.5, random_state=666, shuffle=True, stratify=y_test)"
      ]
    },
    {
      "cell_type": "markdown",
      "metadata": {
        "id": "F5MnjlpSfILi"
      },
      "source": [
        "Создам функцию, чтобы сбалансировать классы:"
      ]
    },
    {
      "cell_type": "code",
      "execution_count": null,
      "metadata": {
        "id": "aY5VBHLzfILi"
      },
      "outputs": [],
      "source": [
        "def down_up_sample(features, target, fraction, repeat):\n",
        "    features_zeros = features[target == 0]\n",
        "    features_ones = features[target == 1]\n",
        "    target_zeros = target[target == 0]\n",
        "    target_ones = target[target == 1]\n",
        "\n",
        "    features_down_up = pd.concat([features_zeros.sample(frac=fraction, random_state=12345)] + [features_ones]*repeat)\n",
        "    target_down_up = pd.concat([target_zeros.sample(frac=fraction, random_state=12345)] + [target_ones]*repeat)\n",
        "\n",
        "    features_down_up_sampled, target_down_up_sampled = shuffle(\n",
        "        features_down_up, target_down_up, random_state=12345)\n",
        "\n",
        "    return features_down_up_sampled, target_down_up_sampled\n",
        "\n",
        "features_upsampled, target_upsampled  = down_up_sample(X_train, y_train, 0.6, 5)"
      ]
    },
    {
      "cell_type": "markdown",
      "metadata": {
        "id": "D__7fsAPfILi"
      },
      "source": [
        "Проверю распределение:"
      ]
    },
    {
      "cell_type": "code",
      "execution_count": null,
      "metadata": {
        "id": "1qQpSHA2fILi",
        "outputId": "5a9f7679-a20f-4283-d45b-6a2c65b393a6"
      },
      "outputs": [
        {
          "data": {
            "image/png": "[encoded data removed]",
            "text/plain": [
              "<Figure size 396x396 with 1 Axes>"
            ]
          },
          "metadata": {},
          "output_type": "display_data"
        }
      ],
      "source": [
        "target_upsampled.value_counts(normalize=True).plot(kind='pie',figsize=[5.5,5.5], legend=False, autopct='%1.1f%%',labels=['Отзыв токсичный, класс [0]','Отзыв не токсичный, класс [1]'])\n",
        "plt.title('Баланс распределения классов в данных')\n",
        "plt.ylabel('')\n",
        "plt.show()"
      ]
    },
    {
      "cell_type": "markdown",
      "metadata": {
        "id": "cjh2mrrofILj"
      },
      "source": [
        "Обработаю данные при помощи TF-IDF:"
      ]
    },
    {
      "cell_type": "code",
      "execution_count": null,
      "metadata": {
        "id": "-ovU11_ofILj",
        "outputId": "b7557262-346f-41db-bd6e-e0a76641ab9b"
      },
      "outputs": [
        {
          "name": "stderr",
          "output_type": "stream",
          "text": [
            "[nltk_data] Downloading package stopwords to /home/jovyan/nltk_data...\n",
            "[nltk_data]   Package stopwords is already up-to-date!\n"
          ]
        }
      ],
      "source": [
        "nltk.download('stopwords')\n",
        "stop_words = list(nltk_stopwords.words('english'))"
      ]
    },
    {
      "cell_type": "code",
      "execution_count": null,
      "metadata": {
        "id": "h-Qba4wOfILj",
        "outputId": "0a7689ee-888a-4219-b210-5e9aba4d553a"
      },
      "outputs": [
        {
          "data": {
            "text/plain": [
              "(100078,)"
            ]
          },
          "execution_count": 18,
          "metadata": {},
          "output_type": "execute_result"
        }
      ],
      "source": [
        "corpus_lemm_train = features_upsampled['lemm_text'].values\n",
        "corpus_lemm_train.shape"
      ]
    },
    {
      "cell_type": "code",
      "execution_count": null,
      "metadata": {
        "id": "FMD6PzPHfILq",
        "outputId": "bf63df1a-2c6c-4682-c728-2ea75780278f"
      },
      "outputs": [
        {
          "data": {
            "text/plain": [
              "(100078, 89282)"
            ]
          },
          "execution_count": 19,
          "metadata": {},
          "output_type": "execute_result"
        }
      ],
      "source": [
        "count_tf_idf = TfidfVectorizer(stop_words=stop_words,analyzer='word')\n",
        "tf_idf = count_tf_idf.fit_transform(corpus_lemm_train)\n",
        "tf_idf.shape"
      ]
    },
    {
      "cell_type": "code",
      "execution_count": null,
      "metadata": {
        "id": "m7Nd48gWfILr",
        "outputId": "080f1fc6-dfed-46b4-c23c-3a580d363b68"
      },
      "outputs": [
        {
          "data": {
            "text/plain": [
              "(31859,)"
            ]
          },
          "execution_count": 20,
          "metadata": {},
          "output_type": "execute_result"
        }
      ],
      "source": [
        "corpus_lemm_val = X_val['lemm_text'].values\n",
        "corpus_lemm_val.shape"
      ]
    },
    {
      "cell_type": "code",
      "execution_count": null,
      "metadata": {
        "id": "T0Quc0AYfILr",
        "outputId": "eaac47f3-06c7-44ea-d95d-ba9e34bcff11"
      },
      "outputs": [
        {
          "data": {
            "text/plain": [
              "(31859, 89282)"
            ]
          },
          "execution_count": 21,
          "metadata": {},
          "output_type": "execute_result"
        }
      ],
      "source": [
        "tf_val = count_tf_idf.transform(corpus_lemm_val)\n",
        "tf_val.shape"
      ]
    },
    {
      "cell_type": "markdown",
      "metadata": {
        "id": "zlwsLUizfILr"
      },
      "source": [
        "**Вывод:**\n",
        "* Данные чистые, без пропусков\n",
        "* Был дисбаланс классов, от которого я избавился\n",
        "* Разбил датасет на выборки и подготовил данные к обучению"
      ]
    },
    {
      "cell_type": "markdown",
      "metadata": {
        "id": "19P2V-t7fILr"
      },
      "source": [
        "## Обучение"
      ]
    },
    {
      "cell_type": "markdown",
      "metadata": {
        "id": "OBUoQE5tfILr"
      },
      "source": [
        "Плотность распределения:"
      ]
    },
    {
      "cell_type": "code",
      "execution_count": null,
      "metadata": {
        "id": "kQlNhLNwfILs"
      },
      "outputs": [],
      "source": [
        "def graph_analis(true, predict):\n",
        "    f1 = f1_score(y_val, predict)\n",
        "    plt.figure(figsize=(10,6))\n",
        "    true.plot(kind='kde', linewidth=2)\n",
        "    pd.Series(predict).plot(kind='kde',linewidth=2)\n",
        "    plt.title('График распределения плотности предсказанных и истинных значений', y=1.01)\n",
        "    plt.legend(['Истинные значения','Предсказанные значения'])\n",
        "    plt.text(0.75,6,'F1= {:.2f}'.format(f1))\n",
        "    plt.xlabel('')\n",
        "    plt.ylabel('Плотность')\n",
        "    plt.show()"
      ]
    },
    {
      "cell_type": "markdown",
      "metadata": {
        "id": "BDPAoIJCfILs"
      },
      "source": [
        "Матрица предсказаний:"
      ]
    },
    {
      "cell_type": "code",
      "execution_count": null,
      "metadata": {
        "id": "c2KcIWPufILs"
      },
      "outputs": [],
      "source": [
        "def highlight_min(data, color='red'):\n",
        "    attr = 'color: {}'.format(color)\n",
        "    if data.ndim == 1:\n",
        "        is_min = data == data.min()\n",
        "        return [attr if v else '' for v in is_min]\n",
        "    else:\n",
        "        is_min = data == data.min().min()\n",
        "        return pd.DataFrame(np.where(is_min, attr, ''),\n",
        "                            index=data.index, columns=data.columns)"
      ]
    },
    {
      "cell_type": "code",
      "execution_count": null,
      "metadata": {
        "id": "5SqPKNBffILs"
      },
      "outputs": [],
      "source": [
        "def create_colors(x):\n",
        "    df1 = x.copy()\n",
        "    df1.loc[:,:] = 'background-color: '\n",
        "    df1.loc['Predicted Positive(1)', 'Actually Negative(0)'] = 'background-color: coral'\n",
        "    df1.loc['Predicted Negative(0)', 'Actually Positive(1)'] = 'background-color: coral'\n",
        "    df1.loc['Predicted Positive(1)', 'Actually Positive(1)'] = 'background-color: springgreen'\n",
        "    df1.loc['Predicted Negative(0)','Actually Negative(0)'] = 'background-color: springgreen'\n",
        "\n",
        "    return df1"
      ]
    },
    {
      "cell_type": "code",
      "execution_count": null,
      "metadata": {
        "id": "9x0PpUq2fILs"
      },
      "outputs": [],
      "source": [
        "def conf_marix(predict):\n",
        "    table=pd.DataFrame(index=['Predicted Positive(1)','Predicted Negative(0)',], columns=['Actually Positive(1)','Actually Negative(0)','Difference'])\n",
        "    matrix=confusion_matrix(y_val, predict)\n",
        "    table['Actually Positive(1)']['Predicted Positive(1)']= 'TP  {:.0f}'.format(matrix[0][0])\n",
        "    table['Actually Positive(1)']['Predicted Negative(0)']= 'FN   {:.0f}'.format(matrix[1][0])\n",
        "\n",
        "    table['Actually Negative(0)']['Predicted Positive(1)']= 'FP  {:.0f}'.format(matrix[0][1])\n",
        "    table['Actually Negative(0)']['Predicted Negative(0)']= 'TN  {:.0f}'.format(matrix[1][1])\n",
        "\n",
        "    table['Difference'][0] = abs(matrix[0][0] - matrix[0][1])\n",
        "    table['Difference'][1] = abs(matrix[1][1]- matrix[1][0])\n",
        "    return table.style.apply(create_colors, axis=None).apply(highlight_min, subset=['Difference'])"
      ]
    },
    {
      "cell_type": "markdown",
      "metadata": {
        "id": "Dcv1V0tXfILs"
      },
      "source": [
        "### DecisionTreeClassifier"
      ]
    },
    {
      "cell_type": "code",
      "execution_count": null,
      "metadata": {
        "colab": {
          "referenced_widgets": [
            "7e7e7a506855455fa2bf1da69e7a6392"
          ]
        },
        "id": "7VZg2kBEfILt",
        "outputId": "1c6619b5-4065-46d4-d2a3-3cc1a9fab013"
      },
      "outputs": [
        {
          "data": {
            "application/vnd.jupyter.widget-view+json": {
              "model_id": "7e7e7a506855455fa2bf1da69e7a6392",
              "version_major": 2,
              "version_minor": 0
            },
            "text/plain": [
              "  0%|          | 0/8 [00:00<?, ?it/s]"
            ]
          },
          "metadata": {},
          "output_type": "display_data"
        },
        {
          "name": "stdout",
          "output_type": "stream",
          "text": [
            "F1 наилучшей модели равно: 0.6 C глубиной: 22\n"
          ]
        }
      ],
      "source": [
        "best_model_dt = None\n",
        "best_result_dt = 0\n",
        "best_depth_dt=0\n",
        "for depth in tqdm(range(1, 25, 3)):\n",
        "\n",
        "    model_dt = DecisionTreeClassifier(random_state=12345, max_depth=depth,class_weight='balanced')\n",
        "    model_dt.fit(tf_idf, target_upsampled)\n",
        "\n",
        "    predict_dt = model_dt.predict(tf_val)\n",
        "    result_dt = f1_score(y_val, predict_dt)\n",
        "\n",
        "    if result_dt > best_result_dt:\n",
        "        best_model_dt = model_dt\n",
        "        best_result_dt = result_dt\n",
        "\n",
        "        best_depth_dt = depth\n",
        "print(\"F1 наилучшей модели равно:\", best_result_dt.round(2), end='')\n",
        "print(' C глубиной:',best_depth_dt)"
      ]
    },
    {
      "cell_type": "markdown",
      "metadata": {
        "id": "-k7AQxEnfILt"
      },
      "source": [
        "**Разеделил данные как 3:1:1, теперь обучаю на трейне, проверяю результаты на валидационной.**"
      ]
    },
    {
      "cell_type": "code",
      "execution_count": null,
      "metadata": {
        "id": "9TN4csgafILt",
        "outputId": "1efbdf0d-abf1-4feb-e3ac-d5fc18883b36"
      },
      "outputs": [
        {
          "name": "stdout",
          "output_type": "stream",
          "text": [
            "                    precision    recall  f1-score   support\n",
            "\n",
            "   Отзыв токсичный       0.95      0.97      0.96     28622\n",
            "Отзыв не токсичный       0.68      0.53      0.60      3237\n",
            "\n",
            "          accuracy                           0.93     31859\n",
            "         macro avg       0.81      0.75      0.78     31859\n",
            "      weighted avg       0.92      0.93      0.92     31859\n",
            "\n",
            "Метрика F1 качества предсказания модели \"DecisionTreeClassifier\" равна : 0.6\n"
          ]
        }
      ],
      "source": [
        "target_names = ['Отзыв токсичный','Отзыв не токсичный']\n",
        "\n",
        "model_dt = DecisionTreeClassifier(random_state=12345, max_depth=best_depth_dt)\n",
        "model_dt.fit(tf_idf, target_upsampled)\n",
        "predicted_dt = model_dt.predict(tf_val)\n",
        "\n",
        "f1_forest_1 = f1_score(y_val, predicted_dt)\n",
        "print(classification_report(y_val, predicted_dt, target_names=target_names))\n",
        "print('Метрика F1 качества предсказания модели \"DecisionTreeClassifier\" равна :',f1_forest_1.round(2))"
      ]
    },
    {
      "cell_type": "code",
      "execution_count": null,
      "metadata": {
        "id": "tNfLlfo-fILt",
        "outputId": "05e07562-a397-4b74-c527-d3ea04ebd6b6"
      },
      "outputs": [
        {
          "data": {
            "text/html": [
              "<style  type=\"text/css\" >\n",
              "#T_04c1a_row0_col0,#T_04c1a_row1_col1{\n",
              "            background-color:  springgreen;\n",
              "        }#T_04c1a_row0_col1,#T_04c1a_row1_col0{\n",
              "            background-color:  coral;\n",
              "        }#T_04c1a_row0_col2{\n",
              "            background-color:  ;\n",
              "        }#T_04c1a_row1_col2{\n",
              "            background-color:  ;\n",
              "            color:  red;\n",
              "        }</style><table id=\"T_04c1a_\" ><thead>    <tr>        <th class=\"blank level0\" ></th>        <th class=\"col_heading level0 col0\" >Actually Positive(1)</th>        <th class=\"col_heading level0 col1\" >Actually Negative(0)</th>        <th class=\"col_heading level0 col2\" >Difference</th>    </tr></thead><tbody>\n",
              "                <tr>\n",
              "                        <th id=\"T_04c1a_level0_row0\" class=\"row_heading level0 row0\" >Predicted Positive(1)</th>\n",
              "                        <td id=\"T_04c1a_row0_col0\" class=\"data row0 col0\" >TP  27813</td>\n",
              "                        <td id=\"T_04c1a_row0_col1\" class=\"data row0 col1\" >FP  809</td>\n",
              "                        <td id=\"T_04c1a_row0_col2\" class=\"data row0 col2\" >27004</td>\n",
              "            </tr>\n",
              "            <tr>\n",
              "                        <th id=\"T_04c1a_level0_row1\" class=\"row_heading level0 row1\" >Predicted Negative(0)</th>\n",
              "                        <td id=\"T_04c1a_row1_col0\" class=\"data row1 col0\" >FN   1508</td>\n",
              "                        <td id=\"T_04c1a_row1_col1\" class=\"data row1 col1\" >TN  1729</td>\n",
              "                        <td id=\"T_04c1a_row1_col2\" class=\"data row1 col2\" >221</td>\n",
              "            </tr>\n",
              "    </tbody></table>"
            ],
            "text/plain": [
              "<pandas.io.formats.style.Styler at 0x7ff1bb645af0>"
            ]
          },
          "execution_count": 28,
          "metadata": {},
          "output_type": "execute_result"
        }
      ],
      "source": [
        "conf_marix(predicted_dt)"
      ]
    },
    {
      "cell_type": "code",
      "execution_count": null,
      "metadata": {
        "id": "IVvZ9IhvfILu",
        "outputId": "c260de65-4cfc-477d-cc82-664891e99be5"
      },
      "outputs": [
        {
          "data": {
            "image/png": "[encoded data removed]",
            "text/plain": [
              "<Figure size 720x432 with 1 Axes>"
            ]
          },
          "metadata": {},
          "output_type": "display_data"
        }
      ],
      "source": [
        "graph_analis(y_val, predicted_dt)"
      ]
    },
    {
      "cell_type": "markdown",
      "metadata": {
        "id": "j_peM3mHfILu"
      },
      "source": [
        "### LogisticRegression"
      ]
    },
    {
      "cell_type": "code",
      "execution_count": null,
      "metadata": {
        "id": "UMo3-cLlfILu",
        "outputId": "8f565f33-6b28-42c2-f9ff-cd54e9113bf9"
      },
      "outputs": [
        {
          "data": {
            "text/plain": [
              "{'C': 9, 'max_iter': 14}"
            ]
          },
          "execution_count": 30,
          "metadata": {},
          "output_type": "execute_result"
        }
      ],
      "source": [
        "clf_lr = LogisticRegression(random_state=12345, solver='sag', class_weight='balanced')\n",
        "parametrs_lr = { 'C': range (1, 10),\n",
        "              'max_iter': range (10,15,2),\n",
        "              }\n",
        "grid_lr = GridSearchCV(clf_lr, parametrs_lr, cv=3, scoring='f1')\n",
        "grid_lr.fit(tf_idf, target_upsampled)\n",
        "grid_lr.best_params_"
      ]
    },
    {
      "cell_type": "code",
      "execution_count": null,
      "metadata": {
        "id": "VC7ebWIkfILu",
        "outputId": "09e5f088-36b0-42fd-d214-3facc9d37444"
      },
      "outputs": [
        {
          "name": "stdout",
          "output_type": "stream",
          "text": [
            "                    precision    recall  f1-score   support\n",
            "\n",
            "   Отзыв токсичный       0.98      0.96      0.97     28622\n",
            "Отзыв не токсичный       0.69      0.81      0.74      3237\n",
            "\n",
            "          accuracy                           0.94     31859\n",
            "         macro avg       0.83      0.89      0.86     31859\n",
            "      weighted avg       0.95      0.94      0.95     31859\n",
            "\n",
            "Метрика F1 качества предсказания модели \"LogisticRegression\" равна : 0.74\n"
          ]
        }
      ],
      "source": [
        "predicted_lr = grid_lr.predict(tf_val)\n",
        "\n",
        "f1_log_r_1 = f1_score(y_val, predicted_lr).round(2)\n",
        "print(classification_report(y_val, predicted_lr, target_names=target_names))\n",
        "print('Метрика F1 качества предсказания модели \"LogisticRegression\" равна :',f1_log_r_1)"
      ]
    },
    {
      "cell_type": "code",
      "execution_count": null,
      "metadata": {
        "id": "JxVt9TebfILv",
        "outputId": "e1219c96-8857-43fc-84d1-7bf00bce1c3e"
      },
      "outputs": [
        {
          "data": {
            "text/html": [
              "<style  type=\"text/css\" >\n",
              "#T_0dbfd_row0_col0,#T_0dbfd_row1_col1{\n",
              "            background-color:  springgreen;\n",
              "        }#T_0dbfd_row0_col1,#T_0dbfd_row1_col0{\n",
              "            background-color:  coral;\n",
              "        }#T_0dbfd_row0_col2{\n",
              "            background-color:  ;\n",
              "        }#T_0dbfd_row1_col2{\n",
              "            background-color:  ;\n",
              "            color:  red;\n",
              "        }</style><table id=\"T_0dbfd_\" ><thead>    <tr>        <th class=\"blank level0\" ></th>        <th class=\"col_heading level0 col0\" >Actually Positive(1)</th>        <th class=\"col_heading level0 col1\" >Actually Negative(0)</th>        <th class=\"col_heading level0 col2\" >Difference</th>    </tr></thead><tbody>\n",
              "                <tr>\n",
              "                        <th id=\"T_0dbfd_level0_row0\" class=\"row_heading level0 row0\" >Predicted Positive(1)</th>\n",
              "                        <td id=\"T_0dbfd_row0_col0\" class=\"data row0 col0\" >TP  27411</td>\n",
              "                        <td id=\"T_0dbfd_row0_col1\" class=\"data row0 col1\" >FP  1211</td>\n",
              "                        <td id=\"T_0dbfd_row0_col2\" class=\"data row0 col2\" >26200</td>\n",
              "            </tr>\n",
              "            <tr>\n",
              "                        <th id=\"T_0dbfd_level0_row1\" class=\"row_heading level0 row1\" >Predicted Negative(0)</th>\n",
              "                        <td id=\"T_0dbfd_row1_col0\" class=\"data row1 col0\" >FN   601</td>\n",
              "                        <td id=\"T_0dbfd_row1_col1\" class=\"data row1 col1\" >TN  2636</td>\n",
              "                        <td id=\"T_0dbfd_row1_col2\" class=\"data row1 col2\" >2035</td>\n",
              "            </tr>\n",
              "    </tbody></table>"
            ],
            "text/plain": [
              "<pandas.io.formats.style.Styler at 0x7ff1bb15f2b0>"
            ]
          },
          "execution_count": 32,
          "metadata": {},
          "output_type": "execute_result"
        }
      ],
      "source": [
        "conf_marix(predicted_lr)"
      ]
    },
    {
      "cell_type": "code",
      "execution_count": null,
      "metadata": {
        "id": "DfvBTaHMfILv",
        "outputId": "97ed6712-5a0e-44ff-b851-896d5f06b04e"
      },
      "outputs": [
        {
          "data": {
            "image/png": "[encoded data removed]",
            "text/plain": [
              "<Figure size 720x432 with 1 Axes>"
            ]
          },
          "metadata": {},
          "output_type": "display_data"
        }
      ],
      "source": [
        "graph_analis(y_val, predicted_lr)"
      ]
    },
    {
      "cell_type": "markdown",
      "metadata": {
        "id": "DSMTK31WfILv"
      },
      "source": [
        "### RandomForestClassifier"
      ]
    },
    {
      "cell_type": "code",
      "execution_count": null,
      "metadata": {
        "colab": {
          "referenced_widgets": [
            "a6ed8459a4394503a8f9a5a2f58c967c"
          ]
        },
        "id": "MpXMJ3clfILv",
        "outputId": "0bf59c1b-9956-4828-ece5-b6f2550d44f0"
      },
      "outputs": [
        {
          "data": {
            "application/vnd.jupyter.widget-view+json": {
              "model_id": "a6ed8459a4394503a8f9a5a2f58c967c",
              "version_major": 2,
              "version_minor": 0
            },
            "text/plain": [
              "  0%|          | 0/3 [00:00<?, ?it/s]"
            ]
          },
          "metadata": {},
          "output_type": "display_data"
        },
        {
          "name": "stdout",
          "output_type": "stream",
          "text": [
            "F1 наилучшей модели равно: 0.66 C глубиной: 9\n"
          ]
        }
      ],
      "source": [
        "best_model_rf = None\n",
        "best_result_rf = 0\n",
        "best_depth_rf = 0\n",
        "\n",
        "for est in tqdm(range(1, 12, 4)):\n",
        "\n",
        "    model_rf = RandomForestClassifier(random_state=12345, n_estimators=est,class_weight='balanced_subsample')\n",
        "    model_rf.fit(tf_idf, target_upsampled)\n",
        "    predict_rf=model_rf.predict(tf_val)\n",
        "    result_rf = f1_score(y_val, predict_rf)\n",
        "\n",
        "    if result_rf > best_result_rf:\n",
        "        best_model_rf = model_rf\n",
        "        best_result_rf = result_rf\n",
        "\n",
        "        best_depth_rf = est\n",
        "\n",
        "print(\"F1 наилучшей модели равно:\", best_result_rf.round(2), end='')\n",
        "print(' C глубиной:', best_depth_rf)"
      ]
    },
    {
      "cell_type": "code",
      "execution_count": null,
      "metadata": {
        "id": "XuyP4CSqfILv",
        "outputId": "93c64891-852c-4ba2-a74c-fbdbec0a40b0"
      },
      "outputs": [
        {
          "name": "stdout",
          "output_type": "stream",
          "text": [
            "                    precision    recall  f1-score   support\n",
            "\n",
            "   Отзыв токсичный       0.96      0.98      0.97     28622\n",
            "Отзыв не токсичный       0.74      0.60      0.66      3237\n",
            "\n",
            "          accuracy                           0.94     31859\n",
            "         macro avg       0.85      0.79      0.81     31859\n",
            "      weighted avg       0.93      0.94      0.93     31859\n",
            "\n",
            "Метрика F1 качества предсказания модели \"RandomForestClassifier\" равна : 0.66\n"
          ]
        }
      ],
      "source": [
        "predict_rfc=model_rf.predict(tf_val)\n",
        "f1_random_forest = f1_score(y_val, predict_rfc)\n",
        "print(classification_report(y_val, predict_rfc, target_names=target_names))\n",
        "print('Метрика F1 качества предсказания модели \"RandomForestClassifier\" равна :',f1_random_forest.round(2))"
      ]
    },
    {
      "cell_type": "code",
      "execution_count": null,
      "metadata": {
        "id": "aZlDSTDwfILw",
        "outputId": "4f751f6a-8e87-41b9-a8f1-7b7fdcc0a6b1"
      },
      "outputs": [
        {
          "data": {
            "text/html": [
              "<style  type=\"text/css\" >\n",
              "#T_e6290_row0_col0,#T_e6290_row1_col1{\n",
              "            background-color:  springgreen;\n",
              "        }#T_e6290_row0_col1,#T_e6290_row1_col0{\n",
              "            background-color:  coral;\n",
              "        }#T_e6290_row0_col2{\n",
              "            background-color:  ;\n",
              "        }#T_e6290_row1_col2{\n",
              "            background-color:  ;\n",
              "            color:  red;\n",
              "        }</style><table id=\"T_e6290_\" ><thead>    <tr>        <th class=\"blank level0\" ></th>        <th class=\"col_heading level0 col0\" >Actually Positive(1)</th>        <th class=\"col_heading level0 col1\" >Actually Negative(0)</th>        <th class=\"col_heading level0 col2\" >Difference</th>    </tr></thead><tbody>\n",
              "                <tr>\n",
              "                        <th id=\"T_e6290_level0_row0\" class=\"row_heading level0 row0\" >Predicted Positive(1)</th>\n",
              "                        <td id=\"T_e6290_row0_col0\" class=\"data row0 col0\" >TP  27920</td>\n",
              "                        <td id=\"T_e6290_row0_col1\" class=\"data row0 col1\" >FP  702</td>\n",
              "                        <td id=\"T_e6290_row0_col2\" class=\"data row0 col2\" >27218</td>\n",
              "            </tr>\n",
              "            <tr>\n",
              "                        <th id=\"T_e6290_level0_row1\" class=\"row_heading level0 row1\" >Predicted Negative(0)</th>\n",
              "                        <td id=\"T_e6290_row1_col0\" class=\"data row1 col0\" >FN   1288</td>\n",
              "                        <td id=\"T_e6290_row1_col1\" class=\"data row1 col1\" >TN  1949</td>\n",
              "                        <td id=\"T_e6290_row1_col2\" class=\"data row1 col2\" >661</td>\n",
              "            </tr>\n",
              "    </tbody></table>"
            ],
            "text/plain": [
              "<pandas.io.formats.style.Styler at 0x7ff1bb15f8e0>"
            ]
          },
          "execution_count": 36,
          "metadata": {},
          "output_type": "execute_result"
        }
      ],
      "source": [
        "conf_marix(predict_rfc)"
      ]
    },
    {
      "cell_type": "code",
      "execution_count": null,
      "metadata": {
        "id": "Zys3GdIhfILw",
        "outputId": "9cd9bebd-9c33-4c6e-c9ac-f3be44c1061d"
      },
      "outputs": [
        {
          "data": {
            "image/png": "[encoded data removed]",
            "text/plain": [
              "<Figure size 720x432 with 1 Axes>"
            ]
          },
          "metadata": {},
          "output_type": "display_data"
        }
      ],
      "source": [
        "graph_analis(y_val, predict_rfc)"
      ]
    },
    {
      "cell_type": "markdown",
      "metadata": {
        "id": "aXyvnyJ9fILw"
      },
      "source": [
        "### Определю порог классификации для LogisticRegression"
      ]
    },
    {
      "cell_type": "code",
      "execution_count": null,
      "metadata": {
        "id": "OY_crC_LfILw",
        "outputId": "b43bce09-0a5f-4999-a549-d10694e0cde0"
      },
      "outputs": [
        {
          "name": "stdout",
          "output_type": "stream",
          "text": [
            "Вероятность положительного класса: [0.00098746 0.02920463 0.04229655 0.04435966 0.01505182]\n"
          ]
        }
      ],
      "source": [
        "probabilities = grid_lr.predict_proba(tf_val)\n",
        "probabilities_one = probabilities[:, 1]\n",
        "print(\"Вероятность положительного класса:\", probabilities_one[:5])"
      ]
    },
    {
      "cell_type": "code",
      "execution_count": null,
      "metadata": {
        "id": "F5dgCrHlfILw",
        "outputId": "f681b6c3-6ec6-4b96-fa87-9183be9abf6c"
      },
      "outputs": [
        {
          "name": "stdout",
          "output_type": "stream",
          "text": [
            "Порог = 0.40 | Точность = 0.630, Полнота = 0.840, F1 = 0.720\n",
            "Порог = 0.42 | Точность = 0.641, Полнота = 0.835, F1 = 0.725\n",
            "Порог = 0.44 | Точность = 0.651, Полнота = 0.829, F1 = 0.730\n",
            "Порог = 0.46 | Точность = 0.663, Полнота = 0.825, F1 = 0.735\n",
            "Порог = 0.48 | Точность = 0.675, Полнота = 0.820, F1 = 0.740\n",
            "Порог = 0.50 | Точность = 0.685, Полнота = 0.814, F1 = 0.744\n",
            "Порог = 0.52 | Точность = 0.694, Полнота = 0.808, F1 = 0.747\n",
            "Порог = 0.54 | Точность = 0.700, Полнота = 0.800, F1 = 0.747\n",
            "Порог = 0.56 | Точность = 0.711, Полнота = 0.796, F1 = 0.751\n",
            "Порог = 0.58 | Точность = 0.719, Полнота = 0.788, F1 = 0.752\n",
            "Порог = 0.60 | Точность = 0.728, Полнота = 0.778, F1 = 0.752\n",
            "Порог = 0.62 | Точность = 0.737, Полнота = 0.772, F1 = 0.754\n",
            "Порог = 0.64 | Точность = 0.750, Полнота = 0.768, F1 = 0.759\n",
            "Порог = 0.66 | Точность = 0.759, Полнота = 0.762, F1 = 0.760\n",
            "Порог = 0.68 | Точность = 0.769, Полнота = 0.756, F1 = 0.762\n",
            "Порог = 0.70 | Точность = 0.777, Полнота = 0.749, F1 = 0.763\n",
            "Порог = 0.72 | Точность = 0.789, Полнота = 0.740, F1 = 0.763\n",
            "Порог = 0.74 | Точность = 0.797, Полнота = 0.730, F1 = 0.762\n",
            "Порог = 0.76 | Точность = 0.809, Полнота = 0.722, F1 = 0.763\n",
            "Порог = 0.78 | Точность = 0.820, Полнота = 0.710, F1 = 0.761\n",
            "Порог = 0.80 | Точность = 0.831, Полнота = 0.699, F1 = 0.759\n",
            "Порог = 0.82 | Точность = 0.840, Полнота = 0.689, F1 = 0.757\n",
            "Порог = 0.84 | Точность = 0.847, Полнота = 0.675, F1 = 0.751\n",
            "Порог = 0.86 | Точность = 0.859, Полнота = 0.663, F1 = 0.748\n",
            "Порог = 0.88 | Точность = 0.869, Полнота = 0.652, F1 = 0.745\n"
          ]
        }
      ],
      "source": [
        "for threshold in np.arange(0.4, 0.9, 0.02):\n",
        "    predicted_v = probabilities_one > threshold\n",
        "    precision = precision_score(y_val, predicted_v)\n",
        "    recall = recall_score(y_val, predicted_v)\n",
        "    f1 = f1_score(y_val, predicted_v)\n",
        "    print(\"Порог = {:.2f} | Точность = {:.3f}, Полнота = {:.3f}, F1 = {:.3f}\".format(\n",
        "        threshold, precision, recall, f1))"
      ]
    },
    {
      "cell_type": "code",
      "execution_count": null,
      "metadata": {
        "id": "fPWIgv65fILx",
        "outputId": "1b5c596e-7582-47c7-e061-d000da904987"
      },
      "outputs": [
        {
          "data": {
            "image/png": "[encoded data removed]",
            "text/plain": [
              "<Figure size 504x504 with 1 Axes>"
            ]
          },
          "metadata": {},
          "output_type": "display_data"
        }
      ],
      "source": [
        "precision, recall, thresholds = precision_recall_curve(y_val, probabilities[:, 1])\n",
        "plt.figure(figsize=(7, 7))\n",
        "plt.step(recall, precision, where='post')\n",
        "plt.xlabel('Recall')\n",
        "plt.ylabel('Precision')\n",
        "plt.ylim([0.0, 1.02])\n",
        "plt.xlim([0.0, 1.02])\n",
        "plt.title('Кривая Precision-Recall')\n",
        "plt.show()"
      ]
    },
    {
      "cell_type": "code",
      "execution_count": null,
      "metadata": {
        "id": "y_xcHgYmfILx",
        "outputId": "20f798fb-02a9-484b-f0e8-278d55b9ad8a"
      },
      "outputs": [
        {
          "name": "stdout",
          "output_type": "stream",
          "text": [
            "                    precision    recall  f1-score   support\n",
            "\n",
            "   Отзыв токсичный       0.97      0.98      0.97     28622\n",
            "Отзыв не токсичный       0.81      0.72      0.76      3237\n",
            "\n",
            "          accuracy                           0.95     31859\n",
            "         macro avg       0.89      0.85      0.87     31859\n",
            "      weighted avg       0.95      0.95      0.95     31859\n",
            "\n"
          ]
        }
      ],
      "source": [
        "predicted_rf_threshold = (probabilities_one>0.76)*1\n",
        "print(classification_report(y_val, predicted_rf_threshold, target_names=target_names))"
      ]
    },
    {
      "cell_type": "markdown",
      "metadata": {
        "id": "KOXTv5i2fILy"
      },
      "source": [
        "Проверю выбранный порог:"
      ]
    },
    {
      "cell_type": "code",
      "execution_count": null,
      "metadata": {
        "id": "UTV6d3upfILy",
        "outputId": "1f0de893-d4b5-4181-f79c-16bddc62ad7e"
      },
      "outputs": [
        {
          "data": {
            "text/plain": [
              "(31858,)"
            ]
          },
          "execution_count": 42,
          "metadata": {},
          "output_type": "execute_result"
        }
      ],
      "source": [
        "corpus_lemm_test = X_test['lemm_text'].values\n",
        "corpus_lemm_test.shape"
      ]
    },
    {
      "cell_type": "code",
      "execution_count": null,
      "metadata": {
        "id": "IX7GtnBXfILy",
        "outputId": "758d46fe-d1aa-42e0-b769-3a419c426fda"
      },
      "outputs": [
        {
          "data": {
            "text/plain": [
              "(31858, 89282)"
            ]
          },
          "execution_count": 43,
          "metadata": {},
          "output_type": "execute_result"
        }
      ],
      "source": [
        "tf_test = count_tf_idf.transform(corpus_lemm_test)\n",
        "tf_test.shape"
      ]
    },
    {
      "cell_type": "code",
      "execution_count": null,
      "metadata": {
        "id": "wM3oySDlfILy",
        "outputId": "e521c34f-a5e4-41fe-bc9d-1c21dffff90d"
      },
      "outputs": [
        {
          "name": "stdout",
          "output_type": "stream",
          "text": [
            "Метрика F1 качества предсказания наилучшей модели с порогом классификации 0,76 равна :  0.76\n"
          ]
        }
      ],
      "source": [
        "predicted_test = (grid_lr.predict_proba(tf_test)[:,1] > 0.76)*1\n",
        "f1_log_r_1 = f1_score(y_test, predicted_test).round(2)\n",
        "print('Метрика F1 качества предсказания наилучшей модели с порогом классификации 0,76 равна : ',f1_log_r_1)"
      ]
    },
    {
      "cell_type": "code",
      "execution_count": null,
      "metadata": {
        "id": "h5YRW9kJfILy"
      },
      "outputs": [],
      "source": [
        "def conf_marix_test(predict):\n",
        "    table=pd.DataFrame(index=['Predicted Positive(1)','Predicted Negative(0)',], columns=['Actually Positive(1)','Actually Negative(0)','Difference'])\n",
        "    matrix=confusion_matrix(y_test, predict)\n",
        "    table['Actually Positive(1)']['Predicted Positive(1)']= 'TP  {:.0f}'.format(matrix[0][0])\n",
        "    table['Actually Positive(1)']['Predicted Negative(0)']= 'FN   {:.0f}'.format(matrix[1][0])\n",
        "\n",
        "    table['Actually Negative(0)']['Predicted Positive(1)']= 'FP  {:.0f}'.format(matrix[0][1])\n",
        "    table['Actually Negative(0)']['Predicted Negative(0)']= 'TN  {:.0f}'.format(matrix[1][1])\n",
        "\n",
        "    table['Difference'][0] = abs(matrix[0][0] - matrix[0][1])\n",
        "    table['Difference'][1] = abs(matrix[1][1]- matrix[1][0])\n",
        "    return table.style.apply(create_colors, axis=None).apply(highlight_min, subset=['Difference'])"
      ]
    },
    {
      "cell_type": "code",
      "execution_count": null,
      "metadata": {
        "id": "hcXaCsDMfILz",
        "outputId": "467dfa98-f528-493c-8339-0ab9abbd07ef"
      },
      "outputs": [
        {
          "data": {
            "text/html": [
              "<style  type=\"text/css\" >\n",
              "#T_e4cdf_row0_col0,#T_e4cdf_row1_col1{\n",
              "            background-color:  springgreen;\n",
              "        }#T_e4cdf_row0_col1,#T_e4cdf_row1_col0{\n",
              "            background-color:  coral;\n",
              "        }#T_e4cdf_row0_col2{\n",
              "            background-color:  ;\n",
              "        }#T_e4cdf_row1_col2{\n",
              "            background-color:  ;\n",
              "            color:  red;\n",
              "        }</style><table id=\"T_e4cdf_\" ><thead>    <tr>        <th class=\"blank level0\" ></th>        <th class=\"col_heading level0 col0\" >Actually Positive(1)</th>        <th class=\"col_heading level0 col1\" >Actually Negative(0)</th>        <th class=\"col_heading level0 col2\" >Difference</th>    </tr></thead><tbody>\n",
              "                <tr>\n",
              "                        <th id=\"T_e4cdf_level0_row0\" class=\"row_heading level0 row0\" >Predicted Positive(1)</th>\n",
              "                        <td id=\"T_e4cdf_row0_col0\" class=\"data row0 col0\" >TP  28015</td>\n",
              "                        <td id=\"T_e4cdf_row0_col1\" class=\"data row0 col1\" >FP  606</td>\n",
              "                        <td id=\"T_e4cdf_row0_col2\" class=\"data row0 col2\" >27409</td>\n",
              "            </tr>\n",
              "            <tr>\n",
              "                        <th id=\"T_e4cdf_level0_row1\" class=\"row_heading level0 row1\" >Predicted Negative(0)</th>\n",
              "                        <td id=\"T_e4cdf_row1_col0\" class=\"data row1 col0\" >FN   883</td>\n",
              "                        <td id=\"T_e4cdf_row1_col1\" class=\"data row1 col1\" >TN  2354</td>\n",
              "                        <td id=\"T_e4cdf_row1_col2\" class=\"data row1 col2\" >1471</td>\n",
              "            </tr>\n",
              "    </tbody></table>"
            ],
            "text/plain": [
              "<pandas.io.formats.style.Styler at 0x7ff1b9014580>"
            ]
          },
          "execution_count": 46,
          "metadata": {},
          "output_type": "execute_result"
        }
      ],
      "source": [
        "conf_marix_test(predicted_test)"
      ]
    },
    {
      "cell_type": "code",
      "execution_count": null,
      "metadata": {
        "id": "X3p_lZNyfILz"
      },
      "outputs": [],
      "source": [
        "def graph_analis_test(true, predict):\n",
        "    f1 = f1_score(y_test, predict)\n",
        "    plt.figure(figsize=(10,6))\n",
        "    true.plot(kind='kde', linewidth=2)\n",
        "    pd.Series(predict).plot(kind='kde',linewidth=2)\n",
        "    plt.title('График распределения плотности предсказанных и истинных значений', y=1.01)\n",
        "    plt.legend(['Истинные значения','Предсказанные значения'])\n",
        "    plt.text(0.75,6,'F1= {:.2f}'.format(f1))\n",
        "    plt.xlabel('')\n",
        "    plt.ylabel('Плотность')\n",
        "    plt.show()"
      ]
    },
    {
      "cell_type": "code",
      "execution_count": null,
      "metadata": {
        "id": "EAf742H-fILz",
        "outputId": "480e99c3-ab09-46fb-bb97-c078c7bae910"
      },
      "outputs": [
        {
          "data": {
            "image/png": "[encoded data removed]",
            "text/plain": [
              "<Figure size 720x432 with 1 Axes>"
            ]
          },
          "metadata": {},
          "output_type": "display_data"
        }
      ],
      "source": [
        "graph_analis_test(y_test, predicted_test)"
      ]
    },
    {
      "cell_type": "markdown",
      "metadata": {
        "id": "j3-3KuZLfILz"
      },
      "source": [
        "Вычислю ROC-AUC для наилучшей модели"
      ]
    },
    {
      "cell_type": "code",
      "execution_count": null,
      "metadata": {
        "id": "_1pF3D9sfILz"
      },
      "outputs": [],
      "source": [
        "probabilities_test = grid_lr.predict_proba(tf_test)\n",
        "probabilities_one_test = probabilities_test[:, 1]"
      ]
    },
    {
      "cell_type": "code",
      "execution_count": null,
      "metadata": {
        "id": "ouC_wRdjfILz",
        "outputId": "86e427a1-6e96-4b1b-9c8f-a158ec5c34f1"
      },
      "outputs": [
        {
          "name": "stdout",
          "output_type": "stream",
          "text": [
            "ROC-AUC: 0.96\n"
          ]
        }
      ],
      "source": [
        "fpr, tpr, thresholds = roc_curve(y_test, probabilities_one_test)\n",
        "auc_roc = roc_auc_score(y_test, probabilities_one_test)\n",
        "print('ROC-AUC: {:.2f}'.format(auc_roc))"
      ]
    },
    {
      "cell_type": "code",
      "execution_count": null,
      "metadata": {
        "id": "s7Vz44ETfIL0",
        "outputId": "c69129b0-c078-45c5-ae0a-ac8eb75b9b99"
      },
      "outputs": [
        {
          "data": {
            "image/png": "[encoded data removed]",
            "text/plain": [
              "<Figure size 504x504 with 1 Axes>"
            ]
          },
          "metadata": {},
          "output_type": "display_data"
        }
      ],
      "source": [
        "plt.figure(figsize=(7,7))\n",
        "plt.plot(fpr, tpr,linewidth=2)\n",
        "plt.plot([0, 1], [0, 1], linestyle='--',linewidth=2)\n",
        "plt.xlim([-0.01, 1.01])\n",
        "plt.ylim([-0.01, 1.01])\n",
        "plt.text(0.2,0.65,'ROC-AUC = {:.2f}'.format(auc_roc))\n",
        "plt.xlabel('False Positive Rate')\n",
        "plt.ylabel('True Positive Rate')\n",
        "plt.title('ROC-кривая')\n",
        "plt.show()"
      ]
    },
    {
      "cell_type": "markdown",
      "metadata": {
        "id": "LvQLfC-nfIL0"
      },
      "source": [
        "## Выводы"
      ]
    },
    {
      "cell_type": "code",
      "execution_count": null,
      "metadata": {
        "id": "cd0qVu4MfIL0",
        "outputId": "b940a9b1-9e6e-408c-cba4-553416cf4c1f"
      },
      "outputs": [
        {
          "data": {
            "text/html": [
              "<div>\n",
              "<style scoped>\n",
              "    .dataframe tbody tr th:only-of-type {\n",
              "        vertical-align: middle;\n",
              "    }\n",
              "\n",
              "    .dataframe tbody tr th {\n",
              "        vertical-align: top;\n",
              "    }\n",
              "\n",
              "    .dataframe thead th {\n",
              "        text-align: right;\n",
              "    }\n",
              "</style>\n",
              "<table border=\"1\" class=\"dataframe\">\n",
              "  <thead>\n",
              "    <tr style=\"text-align: right;\">\n",
              "      <th></th>\n",
              "      <th>F1-мера</th>\n",
              "    </tr>\n",
              "  </thead>\n",
              "  <tbody>\n",
              "    <tr>\n",
              "      <th>Дерево решений</th>\n",
              "      <td>0.60</td>\n",
              "    </tr>\n",
              "    <tr>\n",
              "      <th>Cлучайный лес</th>\n",
              "      <td>0.66</td>\n",
              "    </tr>\n",
              "    <tr>\n",
              "      <th>Логистическая регрессия</th>\n",
              "      <td>0.76</td>\n",
              "    </tr>\n",
              "  </tbody>\n",
              "</table>\n",
              "</div>"
            ],
            "text/plain": [
              "                         F1-мера\n",
              "Дерево решений              0.60\n",
              "Cлучайный лес               0.66\n",
              "Логистическая регрессия     0.76"
            ]
          },
          "execution_count": 52,
          "metadata": {},
          "output_type": "execute_result"
        }
      ],
      "source": [
        "comparison_tabl = pd.DataFrame(index=['F1-мера'], columns=['Дерево решений','Cлучайный лес','Логистическая регрессия'])\n",
        "comparison_tabl['Дерево решений'] = best_result_dt.round(2)\n",
        "comparison_tabl['Cлучайный лес'] = f1_random_forest.round(2)\n",
        "comparison_tabl['Логистическая регрессия'] = f1_log_r_1\n",
        "comparison_tabl.T"
      ]
    },
    {
      "cell_type": "markdown",
      "metadata": {
        "id": "tFvhg43EfIL0"
      },
      "source": [
        "Модель логистической регресси удовлетворяет требованию задания — F1 > 0.75"
      ]
    },
    {
      "cell_type": "markdown",
      "metadata": {
        "id": "ALveiSSEfIL1"
      },
      "source": [
        "**Вывод**\n",
        "\n",
        "В ходе проекта, чтобы добиться оптимального результата, я:\n",
        "* Очистил комментарии от лишних символов\n",
        "* Сбалансировал классы комментариев\n",
        "* Обучил три модели\n",
        "\n",
        "Модель логистической регрессии показала наилучший результат"
      ]
    },
    {
      "cell_type": "code",
      "source": [],
      "metadata": {
        "id": "SLj9KZyMHD0v"
      },
      "execution_count": null,
      "outputs": []
    }
  ],
  "metadata": {
    "ExecuteTimeLog": [
      {
        "duration": 395,
        "start_time": "2023-05-21T10:14:40.121Z"
      },
      {
        "duration": 2310,
        "start_time": "2023-05-21T10:14:42.701Z"
      },
      {
        "duration": 19,
        "start_time": "2023-05-21T10:14:48.057Z"
      },
      {
        "duration": 67,
        "start_time": "2023-05-21T10:15:02.064Z"
      },
      {
        "duration": 2161,
        "start_time": "2023-05-21T10:15:40.779Z"
      },
      {
        "duration": 8,
        "start_time": "2023-05-21T10:15:43.365Z"
      },
      {
        "duration": 31,
        "start_time": "2023-05-21T10:18:31.410Z"
      },
      {
        "duration": 26,
        "start_time": "2023-05-21T10:18:43.281Z"
      },
      {
        "duration": 440,
        "start_time": "2023-05-21T10:19:01.159Z"
      },
      {
        "duration": 158,
        "start_time": "2023-05-21T10:20:08.382Z"
      },
      {
        "duration": 19,
        "start_time": "2023-05-21T10:20:26.571Z"
      },
      {
        "duration": 133,
        "start_time": "2023-05-21T10:20:29.547Z"
      },
      {
        "duration": 19,
        "start_time": "2023-05-21T10:20:32.805Z"
      },
      {
        "duration": 192,
        "start_time": "2023-05-21T10:20:36.677Z"
      },
      {
        "duration": 146,
        "start_time": "2023-05-21T10:21:19.926Z"
      },
      {
        "duration": 125,
        "start_time": "2023-05-21T10:21:25.997Z"
      },
      {
        "duration": 132,
        "start_time": "2023-05-21T10:21:28.401Z"
      },
      {
        "duration": 126,
        "start_time": "2023-05-21T10:21:30.771Z"
      },
      {
        "duration": 127,
        "start_time": "2023-05-21T10:21:34.791Z"
      },
      {
        "duration": 39,
        "start_time": "2023-05-21T10:22:35.192Z"
      },
      {
        "duration": 138,
        "start_time": "2023-05-21T10:22:38.387Z"
      },
      {
        "duration": 131,
        "start_time": "2023-05-21T10:22:44.786Z"
      },
      {
        "duration": 23,
        "start_time": "2023-05-21T10:23:33.581Z"
      },
      {
        "duration": 173,
        "start_time": "2023-05-21T10:23:44.595Z"
      },
      {
        "duration": 8,
        "start_time": "2023-05-21T10:24:00.199Z"
      },
      {
        "duration": 587,
        "start_time": "2023-05-21T10:24:03.493Z"
      },
      {
        "duration": 110,
        "start_time": "2023-05-21T10:26:27.305Z"
      },
      {
        "duration": 1266,
        "start_time": "2023-05-21T10:39:44.612Z"
      },
      {
        "duration": 86,
        "start_time": "2023-05-21T10:41:09.222Z"
      },
      {
        "duration": 6,
        "start_time": "2023-05-21T10:41:51.979Z"
      },
      {
        "duration": 1927,
        "start_time": "2023-05-21T10:42:25.184Z"
      },
      {
        "duration": 5,
        "start_time": "2023-05-21T10:42:28.811Z"
      },
      {
        "duration": 7,
        "start_time": "2023-05-21T10:44:39.089Z"
      },
      {
        "duration": 78,
        "start_time": "2023-05-21T10:44:54.976Z"
      },
      {
        "duration": 6,
        "start_time": "2023-05-21T10:44:59.473Z"
      },
      {
        "duration": 6,
        "start_time": "2023-05-21T10:46:00.159Z"
      },
      {
        "duration": 3,
        "start_time": "2023-05-21T10:46:38.290Z"
      },
      {
        "duration": 10,
        "start_time": "2023-05-21T10:46:40.154Z"
      },
      {
        "duration": 9,
        "start_time": "2023-05-21T10:47:32.684Z"
      },
      {
        "duration": 40636,
        "start_time": "2023-05-21T10:47:38.658Z"
      },
      {
        "duration": 700,
        "start_time": "2023-05-21T10:58:37.066Z"
      },
      {
        "duration": 13,
        "start_time": "2023-05-21T11:03:09.582Z"
      },
      {
        "duration": 6,
        "start_time": "2023-05-21T11:03:26.041Z"
      },
      {
        "duration": 39,
        "start_time": "2023-05-21T11:03:29.141Z"
      },
      {
        "duration": 10,
        "start_time": "2023-05-21T11:04:04.274Z"
      },
      {
        "duration": 26,
        "start_time": "2023-05-21T11:04:13.463Z"
      },
      {
        "duration": 30,
        "start_time": "2023-05-21T11:04:34.005Z"
      },
      {
        "duration": 7,
        "start_time": "2023-05-21T11:05:25.166Z"
      },
      {
        "duration": 52,
        "start_time": "2023-05-21T11:05:36.075Z"
      },
      {
        "duration": 7,
        "start_time": "2023-05-21T11:05:36.511Z"
      },
      {
        "duration": 26,
        "start_time": "2023-05-21T11:05:37.300Z"
      },
      {
        "duration": 1912,
        "start_time": "2023-05-21T11:06:14.576Z"
      },
      {
        "duration": 1856,
        "start_time": "2023-05-21T11:06:16.491Z"
      },
      {
        "duration": 33,
        "start_time": "2023-05-21T11:06:18.350Z"
      },
      {
        "duration": 13,
        "start_time": "2023-05-21T11:06:18.385Z"
      },
      {
        "duration": 53,
        "start_time": "2023-05-21T11:06:18.401Z"
      },
      {
        "duration": 132,
        "start_time": "2023-05-21T11:06:18.456Z"
      },
      {
        "duration": 1929,
        "start_time": "2023-05-21T11:06:18.590Z"
      },
      {
        "duration": 10,
        "start_time": "2023-05-21T11:06:20.522Z"
      },
      {
        "duration": 39508,
        "start_time": "2023-05-21T11:06:20.534Z"
      },
      {
        "duration": 702,
        "start_time": "2023-05-21T11:07:00.051Z"
      },
      {
        "duration": 36,
        "start_time": "2023-05-21T11:07:00.755Z"
      },
      {
        "duration": 2157,
        "start_time": "2023-05-28T13:27:42.573Z"
      },
      {
        "duration": 2318,
        "start_time": "2023-05-28T13:27:44.733Z"
      },
      {
        "duration": 38,
        "start_time": "2023-05-28T13:27:47.053Z"
      },
      {
        "duration": 17,
        "start_time": "2023-05-28T13:27:47.096Z"
      },
      {
        "duration": 29,
        "start_time": "2023-05-28T13:27:47.117Z"
      },
      {
        "duration": 164,
        "start_time": "2023-05-28T13:27:47.148Z"
      },
      {
        "duration": 1930,
        "start_time": "2023-05-28T13:27:47.313Z"
      },
      {
        "duration": 4,
        "start_time": "2023-05-28T13:27:49.244Z"
      },
      {
        "duration": 45887,
        "start_time": "2023-05-28T13:27:49.249Z"
      },
      {
        "duration": 731,
        "start_time": "2023-05-28T13:28:35.138Z"
      },
      {
        "duration": 49,
        "start_time": "2023-05-28T13:28:35.883Z"
      },
      {
        "duration": 2167,
        "start_time": "2023-05-28T13:48:18.809Z"
      },
      {
        "duration": 2074,
        "start_time": "2023-05-28T13:48:20.991Z"
      },
      {
        "duration": 50,
        "start_time": "2023-05-28T13:48:23.067Z"
      },
      {
        "duration": 14,
        "start_time": "2023-05-28T13:48:23.123Z"
      },
      {
        "duration": 27,
        "start_time": "2023-05-28T13:48:23.139Z"
      },
      {
        "duration": 132,
        "start_time": "2023-05-28T13:48:23.167Z"
      },
      {
        "duration": 1920,
        "start_time": "2023-05-28T13:48:23.301Z"
      },
      {
        "duration": 4,
        "start_time": "2023-05-28T13:48:25.223Z"
      },
      {
        "duration": 50175,
        "start_time": "2023-05-28T13:48:25.230Z"
      },
      {
        "duration": 762,
        "start_time": "2023-05-28T13:49:15.417Z"
      },
      {
        "duration": 48,
        "start_time": "2023-05-28T13:49:16.181Z"
      },
      {
        "duration": 71,
        "start_time": "2023-05-28T13:49:57.852Z"
      },
      {
        "duration": 14,
        "start_time": "2023-05-28T13:50:03.174Z"
      },
      {
        "duration": 1973,
        "start_time": "2023-05-28T13:50:08.173Z"
      },
      {
        "duration": 9601,
        "start_time": "2023-05-28T13:50:13.768Z"
      },
      {
        "duration": 43,
        "start_time": "2023-05-28T13:50:25.952Z"
      },
      {
        "duration": 18,
        "start_time": "2023-05-28T13:50:26.607Z"
      },
      {
        "duration": 37,
        "start_time": "2023-05-28T13:50:27.303Z"
      },
      {
        "duration": 128,
        "start_time": "2023-05-28T13:50:27.909Z"
      },
      {
        "duration": 1951,
        "start_time": "2023-05-28T13:50:30.217Z"
      },
      {
        "duration": 6,
        "start_time": "2023-05-28T13:50:33.813Z"
      },
      {
        "duration": 49436,
        "start_time": "2023-05-28T13:50:34.626Z"
      },
      {
        "duration": 714,
        "start_time": "2023-05-28T13:51:30.830Z"
      },
      {
        "duration": 33,
        "start_time": "2023-05-28T13:51:32.421Z"
      },
      {
        "duration": 65,
        "start_time": "2023-05-28T13:51:36.569Z"
      },
      {
        "duration": 1981,
        "start_time": "2023-05-28T13:56:45.053Z"
      },
      {
        "duration": 1775,
        "start_time": "2023-05-28T13:56:48.594Z"
      },
      {
        "duration": 44,
        "start_time": "2023-05-28T13:56:50.371Z"
      },
      {
        "duration": 19,
        "start_time": "2023-05-28T13:56:51.372Z"
      },
      {
        "duration": 55,
        "start_time": "2023-05-28T13:56:51.565Z"
      },
      {
        "duration": 131,
        "start_time": "2023-05-28T13:56:51.769Z"
      },
      {
        "duration": 1983,
        "start_time": "2023-05-28T13:57:13.365Z"
      },
      {
        "duration": 3,
        "start_time": "2023-05-28T13:57:15.350Z"
      },
      {
        "duration": 48062,
        "start_time": "2023-05-28T13:57:17.218Z"
      },
      {
        "duration": 774,
        "start_time": "2023-05-28T13:59:04.777Z"
      },
      {
        "duration": 100,
        "start_time": "2023-05-28T13:59:07.866Z"
      },
      {
        "duration": 52,
        "start_time": "2023-05-28T14:01:18.532Z"
      },
      {
        "duration": 6,
        "start_time": "2023-05-28T14:01:24.869Z"
      },
      {
        "duration": 2108,
        "start_time": "2023-05-28T14:02:40.228Z"
      },
      {
        "duration": 2520,
        "start_time": "2023-05-28T14:02:43.824Z"
      },
      {
        "duration": 45,
        "start_time": "2023-05-28T14:02:46.346Z"
      },
      {
        "duration": 21,
        "start_time": "2023-05-28T14:02:46.392Z"
      },
      {
        "duration": 38,
        "start_time": "2023-05-28T14:02:50.461Z"
      },
      {
        "duration": 125,
        "start_time": "2023-05-28T14:02:50.928Z"
      },
      {
        "duration": 1927,
        "start_time": "2023-05-28T14:07:55.805Z"
      },
      {
        "duration": 3,
        "start_time": "2023-05-28T14:08:30.854Z"
      },
      {
        "duration": 107,
        "start_time": "2023-05-28T14:08:47.614Z"
      },
      {
        "duration": 90159,
        "start_time": "2023-05-28T14:11:51.205Z"
      },
      {
        "duration": 25,
        "start_time": "2023-05-28T14:13:21.366Z"
      },
      {
        "duration": 30,
        "start_time": "2023-05-28T14:18:18.498Z"
      },
      {
        "duration": 12,
        "start_time": "2023-05-28T14:18:30.197Z"
      },
      {
        "duration": 171,
        "start_time": "2023-05-28T14:18:33.063Z"
      },
      {
        "duration": 22,
        "start_time": "2023-05-28T14:22:31.296Z"
      },
      {
        "duration": 9,
        "start_time": "2023-05-28T14:22:32.408Z"
      },
      {
        "duration": 10,
        "start_time": "2023-05-28T14:22:43.029Z"
      },
      {
        "duration": 9898,
        "start_time": "2023-05-28T14:22:50.476Z"
      },
      {
        "duration": 11,
        "start_time": "2023-05-28T14:24:57.221Z"
      },
      {
        "duration": 151247,
        "start_time": "2023-05-28T14:25:49.339Z"
      },
      {
        "duration": 155609,
        "start_time": "2023-05-28T14:28:34.273Z"
      },
      {
        "duration": 53,
        "start_time": "2023-05-28T14:47:51.662Z"
      },
      {
        "duration": 8,
        "start_time": "2023-05-28T14:48:02.305Z"
      },
      {
        "duration": 1646,
        "start_time": "2023-05-28T14:50:35.170Z"
      },
      {
        "duration": 2221,
        "start_time": "2023-05-28T14:50:41.101Z"
      },
      {
        "duration": 6,
        "start_time": "2023-05-28T14:51:06.305Z"
      },
      {
        "duration": 2326,
        "start_time": "2023-05-28T14:51:08.887Z"
      },
      {
        "duration": 32,
        "start_time": "2023-05-28T14:51:11.216Z"
      },
      {
        "duration": 10,
        "start_time": "2023-05-28T14:51:11.249Z"
      },
      {
        "duration": 32,
        "start_time": "2023-05-28T14:51:11.285Z"
      },
      {
        "duration": 449,
        "start_time": "2023-05-28T14:51:11.318Z"
      },
      {
        "duration": 0,
        "start_time": "2023-05-28T14:51:11.777Z"
      },
      {
        "duration": 0,
        "start_time": "2023-05-28T14:51:11.778Z"
      },
      {
        "duration": 0,
        "start_time": "2023-05-28T14:51:11.779Z"
      },
      {
        "duration": 0,
        "start_time": "2023-05-28T14:51:11.779Z"
      },
      {
        "duration": 0,
        "start_time": "2023-05-28T14:51:11.780Z"
      },
      {
        "duration": 0,
        "start_time": "2023-05-28T14:51:11.781Z"
      },
      {
        "duration": 0,
        "start_time": "2023-05-28T14:51:11.782Z"
      },
      {
        "duration": 0,
        "start_time": "2023-05-28T14:51:11.783Z"
      },
      {
        "duration": 11,
        "start_time": "2023-05-28T14:51:14.111Z"
      },
      {
        "duration": 141,
        "start_time": "2023-05-28T14:51:27.690Z"
      },
      {
        "duration": 46,
        "start_time": "2023-05-28T14:51:40.020Z"
      },
      {
        "duration": 4,
        "start_time": "2023-05-28T14:51:40.265Z"
      },
      {
        "duration": 2,
        "start_time": "2023-05-28T14:53:01.338Z"
      },
      {
        "duration": 26,
        "start_time": "2023-05-28T14:53:01.342Z"
      },
      {
        "duration": 85470,
        "start_time": "2023-05-28T14:53:01.370Z"
      },
      {
        "duration": 8,
        "start_time": "2023-05-28T14:54:26.842Z"
      },
      {
        "duration": 39,
        "start_time": "2023-05-28T14:54:48.705Z"
      },
      {
        "duration": 8,
        "start_time": "2023-05-28T14:54:49.285Z"
      },
      {
        "duration": 28,
        "start_time": "2023-05-28T14:54:50.203Z"
      },
      {
        "duration": 1498,
        "start_time": "2023-05-28T14:54:51.053Z"
      },
      {
        "duration": 18,
        "start_time": "2023-05-28T14:55:15.612Z"
      },
      {
        "duration": 15,
        "start_time": "2023-05-28T14:56:05.911Z"
      },
      {
        "duration": 19,
        "start_time": "2023-05-28T14:56:23.352Z"
      },
      {
        "duration": 7794,
        "start_time": "2023-05-28T14:56:23.821Z"
      },
      {
        "duration": 61,
        "start_time": "2023-05-28T14:57:19.044Z"
      },
      {
        "duration": 200442,
        "start_time": "2023-05-28T14:57:40.855Z"
      },
      {
        "duration": 47,
        "start_time": "2023-05-28T15:06:54.740Z"
      },
      {
        "duration": 1910,
        "start_time": "2023-05-28T15:07:14.108Z"
      },
      {
        "duration": 87,
        "start_time": "2023-05-28T15:07:24.712Z"
      },
      {
        "duration": 10,
        "start_time": "2023-05-28T15:07:30.619Z"
      },
      {
        "duration": 7,
        "start_time": "2023-05-28T15:07:38.003Z"
      },
      {
        "duration": 2149,
        "start_time": "2023-05-28T15:07:38.499Z"
      },
      {
        "duration": 42,
        "start_time": "2023-05-28T15:07:40.650Z"
      },
      {
        "duration": 22,
        "start_time": "2023-05-28T15:07:40.694Z"
      },
      {
        "duration": 28,
        "start_time": "2023-05-28T15:07:40.718Z"
      },
      {
        "duration": 391,
        "start_time": "2023-05-28T15:07:40.747Z"
      },
      {
        "duration": 3,
        "start_time": "2023-05-28T15:07:42.095Z"
      },
      {
        "duration": 6,
        "start_time": "2023-05-28T15:07:42.404Z"
      },
      {
        "duration": 95442,
        "start_time": "2023-05-28T15:07:43.110Z"
      },
      {
        "duration": 8,
        "start_time": "2023-05-28T15:09:18.554Z"
      },
      {
        "duration": 50,
        "start_time": "2023-05-28T15:09:18.564Z"
      },
      {
        "duration": 6,
        "start_time": "2023-05-28T15:09:18.620Z"
      },
      {
        "duration": 24,
        "start_time": "2023-05-28T15:09:18.628Z"
      },
      {
        "duration": 7593,
        "start_time": "2023-05-28T15:09:18.653Z"
      },
      {
        "duration": 1864,
        "start_time": "2023-05-28T15:09:53.106Z"
      },
      {
        "duration": 2582,
        "start_time": "2023-05-28T15:09:56.448Z"
      },
      {
        "duration": 31,
        "start_time": "2023-05-28T15:09:59.032Z"
      },
      {
        "duration": 33,
        "start_time": "2023-05-28T15:09:59.065Z"
      },
      {
        "duration": 32,
        "start_time": "2023-05-28T15:09:59.099Z"
      },
      {
        "duration": 367,
        "start_time": "2023-05-28T15:09:59.132Z"
      },
      {
        "duration": 2,
        "start_time": "2023-05-28T15:09:59.656Z"
      },
      {
        "duration": 6,
        "start_time": "2023-05-28T15:10:00.010Z"
      },
      {
        "duration": 94555,
        "start_time": "2023-05-28T15:10:02.306Z"
      },
      {
        "duration": 24,
        "start_time": "2023-05-28T15:11:36.863Z"
      },
      {
        "duration": 34,
        "start_time": "2023-05-28T15:11:41.956Z"
      },
      {
        "duration": 6,
        "start_time": "2023-05-28T15:11:42.495Z"
      },
      {
        "duration": 32,
        "start_time": "2023-05-28T15:11:43.149Z"
      },
      {
        "duration": 7991,
        "start_time": "2023-05-28T15:11:43.743Z"
      },
      {
        "duration": 1902,
        "start_time": "2023-05-28T18:16:21.389Z"
      },
      {
        "duration": 2586,
        "start_time": "2023-05-28T18:16:24.916Z"
      },
      {
        "duration": 70,
        "start_time": "2023-05-28T18:16:28.803Z"
      },
      {
        "duration": 17,
        "start_time": "2023-05-28T18:16:41.104Z"
      },
      {
        "duration": 26,
        "start_time": "2023-05-28T18:16:41.787Z"
      },
      {
        "duration": 603,
        "start_time": "2023-05-28T18:16:42.197Z"
      },
      {
        "duration": 5,
        "start_time": "2023-05-28T18:16:47.009Z"
      },
      {
        "duration": 116363,
        "start_time": "2023-05-28T18:16:49.670Z"
      },
      {
        "duration": 10,
        "start_time": "2023-05-28T18:18:46.035Z"
      },
      {
        "duration": 52,
        "start_time": "2023-05-28T18:18:46.047Z"
      },
      {
        "duration": 164,
        "start_time": "2023-05-28T18:19:02.094Z"
      },
      {
        "duration": 13,
        "start_time": "2023-05-28T18:19:09.459Z"
      },
      {
        "duration": 8,
        "start_time": "2023-05-28T18:19:37.400Z"
      },
      {
        "duration": 56,
        "start_time": "2023-05-28T18:19:42.807Z"
      },
      {
        "duration": 6,
        "start_time": "2023-05-28T18:19:43.706Z"
      },
      {
        "duration": 37,
        "start_time": "2023-05-28T18:19:45.868Z"
      },
      {
        "duration": 147,
        "start_time": "2023-05-28T18:19:46.359Z"
      },
      {
        "duration": 13,
        "start_time": "2023-05-28T18:19:48.963Z"
      },
      {
        "duration": 1332,
        "start_time": "2023-05-28T18:19:50.262Z"
      },
      {
        "duration": 44,
        "start_time": "2023-05-28T18:19:58.608Z"
      },
      {
        "duration": 4536,
        "start_time": "2023-05-28T18:20:01.271Z"
      },
      {
        "duration": 43,
        "start_time": "2023-05-28T18:20:29.194Z"
      },
      {
        "duration": 9,
        "start_time": "2023-05-28T18:20:32.482Z"
      },
      {
        "duration": 32,
        "start_time": "2023-05-28T18:20:32.974Z"
      },
      {
        "duration": 154,
        "start_time": "2023-05-28T18:20:34.695Z"
      },
      {
        "duration": 4,
        "start_time": "2023-05-28T18:20:37.281Z"
      },
      {
        "duration": 110931,
        "start_time": "2023-05-28T18:20:38.178Z"
      },
      {
        "duration": 1939,
        "start_time": "2023-05-29T12:56:17.740Z"
      },
      {
        "duration": 2786,
        "start_time": "2023-05-29T12:56:28.503Z"
      },
      {
        "duration": 30,
        "start_time": "2023-05-29T12:56:43.091Z"
      },
      {
        "duration": 11,
        "start_time": "2023-05-29T12:56:43.333Z"
      },
      {
        "duration": 2083,
        "start_time": "2023-05-29T13:26:47.636Z"
      },
      {
        "duration": 1678,
        "start_time": "2023-05-29T13:27:09.940Z"
      },
      {
        "duration": 2566,
        "start_time": "2023-05-29T13:27:11.620Z"
      },
      {
        "duration": 153,
        "start_time": "2023-05-29T13:27:14.188Z"
      },
      {
        "duration": 1,
        "start_time": "2023-05-29T13:27:14.342Z"
      },
      {
        "duration": 32,
        "start_time": "2023-05-29T13:27:24.437Z"
      },
      {
        "duration": 10,
        "start_time": "2023-05-29T13:27:24.987Z"
      },
      {
        "duration": 607,
        "start_time": "2023-05-29T13:28:36.043Z"
      },
      {
        "duration": 3,
        "start_time": "2023-05-29T13:29:17.957Z"
      },
      {
        "duration": 4,
        "start_time": "2023-05-29T13:29:20.189Z"
      },
      {
        "duration": 4,
        "start_time": "2023-05-29T13:29:23.322Z"
      },
      {
        "duration": 1179140,
        "start_time": "2023-05-29T13:29:45.437Z"
      },
      {
        "duration": 64,
        "start_time": "2023-05-29T13:49:24.579Z"
      },
      {
        "duration": 4,
        "start_time": "2023-05-29T13:50:07.543Z"
      },
      {
        "duration": 4,
        "start_time": "2023-05-29T13:50:09.628Z"
      },
      {
        "duration": 122,
        "start_time": "2023-05-29T13:50:12.297Z"
      },
      {
        "duration": 32,
        "start_time": "2023-05-29T13:50:15.359Z"
      },
      {
        "duration": 72,
        "start_time": "2023-05-29T13:50:17.187Z"
      },
      {
        "duration": 96,
        "start_time": "2023-05-29T13:50:18.184Z"
      },
      {
        "duration": 84,
        "start_time": "2023-05-29T13:50:19.962Z"
      },
      {
        "duration": 5,
        "start_time": "2023-05-29T13:50:21.934Z"
      },
      {
        "duration": 1498,
        "start_time": "2023-05-29T13:50:23.602Z"
      },
      {
        "duration": 6173,
        "start_time": "2023-05-29T13:50:26.093Z"
      },
      {
        "duration": 470,
        "start_time": "2023-05-29T13:50:33.395Z"
      },
      {
        "duration": 2024,
        "start_time": "2023-05-29T13:50:34.791Z"
      },
      {
        "duration": 4,
        "start_time": "2023-05-29T13:50:39.529Z"
      },
      {
        "duration": 4,
        "start_time": "2023-05-29T13:50:40.695Z"
      },
      {
        "duration": 4,
        "start_time": "2023-05-29T13:50:42.515Z"
      },
      {
        "duration": 5,
        "start_time": "2023-05-29T13:50:48.688Z"
      },
      {
        "duration": 48689,
        "start_time": "2023-05-29T13:50:51.056Z"
      },
      {
        "duration": 12425,
        "start_time": "2023-05-29T13:51:55.316Z"
      },
      {
        "duration": 68,
        "start_time": "2023-05-29T13:52:17.193Z"
      },
      {
        "duration": 1771,
        "start_time": "2023-05-29T13:52:18.036Z"
      },
      {
        "duration": 65226,
        "start_time": "2023-05-29T13:52:22.093Z"
      },
      {
        "duration": 62,
        "start_time": "2023-05-29T13:54:48.855Z"
      },
      {
        "duration": 37,
        "start_time": "2023-05-29T13:54:50.588Z"
      },
      {
        "duration": 1710,
        "start_time": "2023-05-29T13:54:51.135Z"
      },
      {
        "duration": 335110,
        "start_time": "2023-05-29T13:54:55.240Z"
      },
      {
        "duration": 440,
        "start_time": "2023-05-29T14:00:44.395Z"
      },
      {
        "duration": 52,
        "start_time": "2023-05-29T14:00:45.460Z"
      },
      {
        "duration": 1793,
        "start_time": "2023-05-29T14:00:46.239Z"
      },
      {
        "duration": 8,
        "start_time": "2023-05-29T14:00:50.747Z"
      },
      {
        "duration": 783,
        "start_time": "2023-05-29T14:00:51.359Z"
      },
      {
        "duration": 208,
        "start_time": "2023-05-29T14:01:01.615Z"
      },
      {
        "duration": 47,
        "start_time": "2023-05-29T14:01:05.162Z"
      },
      {
        "duration": 20,
        "start_time": "2023-05-29T14:01:21.499Z"
      },
      {
        "duration": 34,
        "start_time": "2023-05-29T14:01:22.236Z"
      },
      {
        "duration": 1900,
        "start_time": "2023-05-29T14:01:22.925Z"
      },
      {
        "duration": 22,
        "start_time": "2023-05-29T14:01:47.548Z"
      },
      {
        "duration": 166,
        "start_time": "2023-05-29T14:01:52.525Z"
      },
      {
        "duration": 11,
        "start_time": "2023-05-29T14:02:06.193Z"
      },
      {
        "duration": 2029,
        "start_time": "2023-05-29T18:39:35.938Z"
      },
      {
        "duration": 2094,
        "start_time": "2023-05-29T18:39:49.207Z"
      },
      {
        "duration": 39,
        "start_time": "2023-05-29T18:39:51.303Z"
      },
      {
        "duration": 12,
        "start_time": "2023-05-29T18:39:52.500Z"
      },
      {
        "duration": 949,
        "start_time": "2023-05-29T18:39:54.927Z"
      },
      {
        "duration": 3,
        "start_time": "2023-05-29T18:39:55.895Z"
      },
      {
        "duration": 3,
        "start_time": "2023-05-29T18:39:56.710Z"
      },
      {
        "duration": 1691,
        "start_time": "2023-05-29T18:40:38.323Z"
      },
      {
        "duration": 2789,
        "start_time": "2023-05-29T18:40:41.638Z"
      },
      {
        "duration": 123,
        "start_time": "2023-05-29T18:40:44.429Z"
      },
      {
        "duration": 11,
        "start_time": "2023-05-29T18:40:44.553Z"
      },
      {
        "duration": 248,
        "start_time": "2023-05-29T18:40:46.503Z"
      },
      {
        "duration": 3,
        "start_time": "2023-05-29T18:40:48.295Z"
      },
      {
        "duration": 4,
        "start_time": "2023-05-29T18:40:49.031Z"
      },
      {
        "duration": 1175913,
        "start_time": "2023-05-29T18:40:50.088Z"
      },
      {
        "duration": 5,
        "start_time": "2023-05-29T19:00:40.825Z"
      },
      {
        "duration": 4,
        "start_time": "2023-05-29T19:00:41.419Z"
      },
      {
        "duration": 111,
        "start_time": "2023-05-29T19:00:44.451Z"
      },
      {
        "duration": 43,
        "start_time": "2023-05-29T19:00:50.421Z"
      },
      {
        "duration": 141,
        "start_time": "2023-05-29T19:01:52.295Z"
      },
      {
        "duration": 85,
        "start_time": "2023-05-29T19:01:57.025Z"
      },
      {
        "duration": 18,
        "start_time": "2023-05-29T19:01:57.723Z"
      },
      {
        "duration": 32,
        "start_time": "2023-05-29T19:02:13.749Z"
      },
      {
        "duration": 93,
        "start_time": "2023-05-29T19:02:29.848Z"
      },
      {
        "duration": 84,
        "start_time": "2023-05-29T19:02:34.912Z"
      },
      {
        "duration": 6,
        "start_time": "2023-05-29T19:02:39.192Z"
      },
      {
        "duration": 4,
        "start_time": "2023-05-29T19:02:42.508Z"
      },
      {
        "duration": 3869,
        "start_time": "2023-05-29T19:02:46.250Z"
      },
      {
        "duration": 4,
        "start_time": "2023-05-29T19:03:31.820Z"
      },
      {
        "duration": 1218,
        "start_time": "2023-05-29T19:03:32.553Z"
      },
      {
        "duration": 5,
        "start_time": "2023-05-29T19:03:37.240Z"
      },
      {
        "duration": 5,
        "start_time": "2023-05-29T19:03:38.719Z"
      },
      {
        "duration": 4,
        "start_time": "2023-05-29T19:03:38.995Z"
      },
      {
        "duration": 6,
        "start_time": "2023-05-29T19:03:39.206Z"
      },
      {
        "duration": 4,
        "start_time": "2023-05-29T19:04:49.182Z"
      },
      {
        "duration": 1406,
        "start_time": "2023-05-29T19:05:00.109Z"
      },
      {
        "duration": 5,
        "start_time": "2023-05-29T19:05:17.995Z"
      },
      {
        "duration": 4,
        "start_time": "2023-05-29T19:05:24.620Z"
      },
      {
        "duration": 4,
        "start_time": "2023-05-29T19:05:26.987Z"
      },
      {
        "duration": 5,
        "start_time": "2023-05-29T19:05:31.134Z"
      },
      {
        "duration": 37322,
        "start_time": "2023-05-29T19:05:47.752Z"
      },
      {
        "duration": 9511,
        "start_time": "2023-05-29T19:07:23.296Z"
      },
      {
        "duration": 21,
        "start_time": "2023-05-29T19:08:02.791Z"
      },
      {
        "duration": 9647,
        "start_time": "2023-05-29T19:08:41.335Z"
      },
      {
        "duration": 20,
        "start_time": "2023-05-29T19:08:50.984Z"
      },
      {
        "duration": 3,
        "start_time": "2023-05-29T19:09:05.039Z"
      },
      {
        "duration": 1475,
        "start_time": "2023-05-29T19:09:05.608Z"
      },
      {
        "duration": 1560,
        "start_time": "2023-05-29T19:09:10.841Z"
      },
      {
        "duration": 55378,
        "start_time": "2023-05-29T19:09:32.116Z"
      },
      {
        "duration": 29,
        "start_time": "2023-05-29T19:11:01.231Z"
      },
      {
        "duration": 45,
        "start_time": "2023-05-29T19:11:55.931Z"
      },
      {
        "duration": 20,
        "start_time": "2023-05-29T19:12:55.118Z"
      },
      {
        "duration": 3,
        "start_time": "2023-05-29T19:12:59.528Z"
      },
      {
        "duration": 1447,
        "start_time": "2023-05-29T19:13:05.283Z"
      },
      {
        "duration": 6,
        "start_time": "2023-05-29T19:13:40.345Z"
      },
      {
        "duration": 88,
        "start_time": "2023-05-29T19:13:47.103Z"
      },
      {
        "duration": 42,
        "start_time": "2023-05-29T19:13:52.093Z"
      },
      {
        "duration": 239442,
        "start_time": "2023-05-29T19:14:44.795Z"
      },
      {
        "duration": 310,
        "start_time": "2023-05-29T19:20:05.003Z"
      },
      {
        "duration": 31,
        "start_time": "2023-05-29T19:20:07.690Z"
      },
      {
        "duration": 1632,
        "start_time": "2023-05-29T19:20:08.382Z"
      },
      {
        "duration": 9,
        "start_time": "2023-05-29T19:20:14.734Z"
      },
      {
        "duration": 572,
        "start_time": "2023-05-29T19:20:17.117Z"
      },
      {
        "duration": 112,
        "start_time": "2023-05-29T19:20:32.345Z"
      },
      {
        "duration": 373,
        "start_time": "2023-05-29T19:20:45.488Z"
      },
      {
        "duration": 41,
        "start_time": "2023-05-29T19:20:53.526Z"
      },
      {
        "duration": 19,
        "start_time": "2023-05-29T19:21:40.191Z"
      },
      {
        "duration": 4,
        "start_time": "2023-05-29T19:26:43.947Z"
      },
      {
        "duration": 1233,
        "start_time": "2023-05-29T19:26:44.895Z"
      },
      {
        "duration": 6,
        "start_time": "2023-05-29T19:26:56.013Z"
      },
      {
        "duration": 24,
        "start_time": "2023-05-29T19:27:00.391Z"
      },
      {
        "duration": 16,
        "start_time": "2023-05-29T19:28:05.287Z"
      },
      {
        "duration": 6,
        "start_time": "2023-05-29T19:28:35.553Z"
      },
      {
        "duration": 44,
        "start_time": "2023-05-29T19:28:36.015Z"
      },
      {
        "duration": 24,
        "start_time": "2023-05-29T19:28:36.648Z"
      },
      {
        "duration": 21,
        "start_time": "2023-05-29T19:28:45.884Z"
      },
      {
        "duration": 28,
        "start_time": "2023-05-29T19:29:05.609Z"
      },
      {
        "duration": 22,
        "start_time": "2023-05-29T19:29:13.091Z"
      },
      {
        "duration": 1594,
        "start_time": "2023-05-29T19:29:28.601Z"
      },
      {
        "duration": 1582,
        "start_time": "2023-05-29T19:29:36.139Z"
      },
      {
        "duration": 21,
        "start_time": "2023-05-29T19:29:48.494Z"
      },
      {
        "duration": 17,
        "start_time": "2023-05-29T19:30:51.692Z"
      },
      {
        "duration": 6,
        "start_time": "2023-05-29T19:30:52.916Z"
      },
      {
        "duration": 29,
        "start_time": "2023-05-29T19:30:53.353Z"
      },
      {
        "duration": 1472,
        "start_time": "2023-05-29T19:30:54.258Z"
      },
      {
        "duration": 4,
        "start_time": "2023-05-29T19:31:25.457Z"
      },
      {
        "duration": 21,
        "start_time": "2023-05-29T19:31:27.508Z"
      },
      {
        "duration": 1490,
        "start_time": "2023-05-29T19:31:44.724Z"
      },
      {
        "duration": 17,
        "start_time": "2023-05-29T19:31:49.607Z"
      },
      {
        "duration": 10,
        "start_time": "2023-05-29T19:32:57.727Z"
      },
      {
        "duration": 8,
        "start_time": "2023-05-29T19:32:59.959Z"
      },
      {
        "duration": 14,
        "start_time": "2023-05-29T19:33:00.398Z"
      },
      {
        "duration": 7,
        "start_time": "2023-05-29T19:34:01.887Z"
      },
      {
        "duration": 37,
        "start_time": "2023-05-29T19:34:02.539Z"
      },
      {
        "duration": 171,
        "start_time": "2023-05-29T19:34:15.558Z"
      },
      {
        "duration": 15,
        "start_time": "2023-05-29T19:34:19.191Z"
      },
      {
        "duration": 77,
        "start_time": "2023-05-29T19:34:43.191Z"
      },
      {
        "duration": 1666,
        "start_time": "2023-05-29T19:35:20.716Z"
      },
      {
        "duration": 3855,
        "start_time": "2023-05-29T19:35:22.384Z"
      },
      {
        "duration": 134,
        "start_time": "2023-05-29T19:35:26.241Z"
      },
      {
        "duration": 11,
        "start_time": "2023-05-29T19:35:26.377Z"
      },
      {
        "duration": 306,
        "start_time": "2023-05-29T19:35:26.390Z"
      },
      {
        "duration": 4,
        "start_time": "2023-05-29T19:35:26.697Z"
      },
      {
        "duration": 8,
        "start_time": "2023-05-29T19:35:26.702Z"
      },
      {
        "duration": 1286295,
        "start_time": "2023-05-29T19:35:26.711Z"
      },
      {
        "duration": 4,
        "start_time": "2023-05-29T19:56:53.008Z"
      },
      {
        "duration": 22,
        "start_time": "2023-05-29T19:56:53.014Z"
      },
      {
        "duration": 154,
        "start_time": "2023-05-29T19:56:53.042Z"
      },
      {
        "duration": 43,
        "start_time": "2023-05-29T19:56:53.198Z"
      },
      {
        "duration": 86,
        "start_time": "2023-05-29T19:56:53.243Z"
      },
      {
        "duration": 53,
        "start_time": "2023-05-29T19:56:53.342Z"
      },
      {
        "duration": 116,
        "start_time": "2023-05-29T19:56:53.397Z"
      },
      {
        "duration": 92,
        "start_time": "2023-05-29T19:56:53.515Z"
      },
      {
        "duration": 5,
        "start_time": "2023-05-29T19:56:53.609Z"
      },
      {
        "duration": 11,
        "start_time": "2023-05-29T19:56:53.616Z"
      },
      {
        "duration": 4092,
        "start_time": "2023-05-29T19:56:53.628Z"
      },
      {
        "duration": 5,
        "start_time": "2023-05-29T19:56:57.721Z"
      },
      {
        "duration": 1489,
        "start_time": "2023-05-29T19:56:57.729Z"
      },
      {
        "duration": 8,
        "start_time": "2023-05-29T19:56:59.220Z"
      },
      {
        "duration": 37,
        "start_time": "2023-05-29T19:56:59.230Z"
      },
      {
        "duration": 7,
        "start_time": "2023-05-29T19:56:59.269Z"
      },
      {
        "duration": 15,
        "start_time": "2023-05-29T19:56:59.278Z"
      },
      {
        "duration": 40829,
        "start_time": "2023-05-29T19:56:59.296Z"
      },
      {
        "duration": 10240,
        "start_time": "2023-05-29T19:57:40.127Z"
      },
      {
        "duration": 82,
        "start_time": "2023-05-29T19:57:50.369Z"
      },
      {
        "duration": 1573,
        "start_time": "2023-05-29T19:57:50.453Z"
      },
      {
        "duration": 63597,
        "start_time": "2023-05-29T19:57:52.027Z"
      },
      {
        "duration": 57,
        "start_time": "2023-05-29T19:58:55.626Z"
      },
      {
        "duration": 30,
        "start_time": "2023-05-29T19:58:55.685Z"
      },
      {
        "duration": 1363,
        "start_time": "2023-05-29T19:58:55.716Z"
      },
      {
        "duration": 264705,
        "start_time": "2023-05-29T19:58:57.081Z"
      },
      {
        "duration": 334,
        "start_time": "2023-05-29T20:03:21.788Z"
      },
      {
        "duration": 46,
        "start_time": "2023-05-29T20:03:22.124Z"
      },
      {
        "duration": 1431,
        "start_time": "2023-05-29T20:03:22.171Z"
      },
      {
        "duration": 10,
        "start_time": "2023-05-29T20:03:23.604Z"
      },
      {
        "duration": 636,
        "start_time": "2023-05-29T20:03:23.616Z"
      },
      {
        "duration": 165,
        "start_time": "2023-05-29T20:03:24.257Z"
      },
      {
        "duration": 45,
        "start_time": "2023-05-29T20:03:24.425Z"
      },
      {
        "duration": 4,
        "start_time": "2023-05-29T20:03:24.473Z"
      },
      {
        "duration": 1395,
        "start_time": "2023-05-29T20:03:24.479Z"
      },
      {
        "duration": 16,
        "start_time": "2023-05-29T20:03:25.875Z"
      },
      {
        "duration": 26,
        "start_time": "2023-05-29T20:03:25.892Z"
      },
      {
        "duration": 98,
        "start_time": "2023-05-29T20:03:25.920Z"
      },
      {
        "duration": 9,
        "start_time": "2023-05-29T20:03:26.020Z"
      },
      {
        "duration": 1743,
        "start_time": "2023-05-29T20:03:26.030Z"
      },
      {
        "duration": 7,
        "start_time": "2023-05-29T20:03:27.775Z"
      },
      {
        "duration": 25,
        "start_time": "2023-05-29T20:03:27.783Z"
      },
      {
        "duration": 180,
        "start_time": "2023-05-29T20:03:27.809Z"
      },
      {
        "duration": 11,
        "start_time": "2023-05-29T20:03:27.990Z"
      }
    ],
    "kernelspec": {
      "display_name": "Python 3 (ipykernel)",
      "language": "python",
      "name": "python3"
    },
    "language_info": {
      "codemirror_mode": {
        "name": "ipython",
        "version": 3
      },
      "file_extension": ".py",
      "mimetype": "text/x-python",
      "name": "python",
      "nbconvert_exporter": "python",
      "pygments_lexer": "ipython3",
      "version": "3.9.5"
    },
    "toc": {
      "base_numbering": 1,
      "nav_menu": {},
      "number_sections": true,
      "sideBar": true,
      "skip_h1_title": true,
      "title_cell": "Содержание",
      "title_sidebar": "Contents",
      "toc_cell": true,
      "toc_position": {
        "height": "calc(100% - 180px)",
        "left": "10px",
        "top": "150px",
        "width": "302.391px"
      },
      "toc_section_display": true,
      "toc_window_display": false
    },
    "colab": {
      "provenance": []
    }
  },
  "nbformat": 4,
  "nbformat_minor": 0
}